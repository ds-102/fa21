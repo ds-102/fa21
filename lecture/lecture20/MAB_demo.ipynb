{
 "cells": [
  {
   "cell_type": "markdown",
   "metadata": {},
   "source": [
    "# Multi-armed bandits demo"
   ]
  },
  {
   "cell_type": "code",
   "execution_count": null,
   "metadata": {},
   "outputs": [],
   "source": [
    "import numpy as np\n",
    "import matplotlib.pyplot as plt\n",
    "import matplotlib.patches as patches\n",
    "import seaborn as sns\n",
    "import matplotlib.animation as ani\n",
    "from matplotlib.widgets import Button\n",
    "import functools\n",
    "from UCB_interactive import BanditEnv, UCB"
   ]
  },
  {
   "cell_type": "code",
   "execution_count": null,
   "metadata": {
    "scrolled": true
   },
   "outputs": [],
   "source": [
    "seed=np.random.choice(range(10000))\n",
    "seed = 1000\n",
    "np.random.seed(seed)\n",
    "print('Random Seed: '+str(seed))\n",
    "#Number of arms sound be 2-8 (more becomes hard to plot) (5 seems to render best)\n",
    "num_arms=5\n",
    "\n",
    "#If you want to show the distributions and pseudo-regret of algorithm\n",
    "show_distributions=1\n",
    "show_pseudo_regret=1\n",
    "show_UCB_button=1\n",
    "time_horizon=200\n",
    "\n",
    "# Make bandit environment:\n",
    "# makes a bandit environment with gaussian reward distributions.\n",
    "#\n",
    "#   means: [None,'rand',list]   - if means is None, the optimal arm is arm 0 and the rest are randomly generated\n",
    "#                               - if means is 'rand' all arms are randomly generated\n",
    "#                               - otherwise you can enter a list of means for each arm\n",
    "#\n",
    "#   standard_deviations: [list] - if you supply the means, you must also supply the standard deviations\n",
    "#                                 of each arm as a list\n",
    "#\n",
    "#   delta: float                - confidence level for upper confidence bounds\n",
    "\n",
    "means='rand'\n",
    "standard_deviations=None\n",
    "env=BanditEnv(num_arms, means,standard_deviations)\n",
    "delta=1.0/(time_horizon)**2\n",
    "\n",
    "# Make environment\n",
    "alg=UCB(env,delta)\n",
    "#Run Interactive demo\n",
    "%matplotlib notebook\n",
    "regret=alg.run_Interactive(show_distributions,show_pseudo_regret,show_UCB_button)"
   ]
  },
  {
   "cell_type": "markdown",
   "metadata": {},
   "source": [
    "The pseudo-regret is defined as\n",
    "$$\n",
    "\\bar{R}_n = n\\mu^* - \\sum_{t=1}^n \\mu_{A_t}.\n",
    "$$"
   ]
  }
 ],
 "metadata": {
  "kernelspec": {
   "display_name": "Python 3",
   "language": "python",
   "name": "python3"
  },
  "language_info": {
   "codemirror_mode": {
    "name": "ipython",
    "version": 3
   },
   "file_extension": ".py",
   "mimetype": "text/x-python",
   "name": "python",
   "nbconvert_exporter": "python",
   "pygments_lexer": "ipython3",
   "version": "3.7.7"
  }
 },
 "nbformat": 4,
 "nbformat_minor": 4
}
