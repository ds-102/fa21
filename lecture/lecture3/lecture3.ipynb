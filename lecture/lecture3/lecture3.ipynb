{
 "cells": [
  {
   "cell_type": "markdown",
   "metadata": {},
   "source": [
    "# Data 102 Fall 2021 Lecture 3"
   ]
  },
  {
   "cell_type": "code",
   "execution_count": 1,
   "metadata": {},
   "outputs": [],
   "source": [
    "import numpy as np\n",
    "import pandas as pd\n",
    "import matplotlib.pyplot as plt\n",
    "import seaborn as sns\n",
    "\n",
    "%matplotlib inline\n",
    "\n",
    "from sklearn.datasets import load_breast_cancer\n",
    "from sklearn.model_selection import train_test_split\n",
    "from sklearn.metrics import confusion_matrix\n",
    "from sklearn.linear_model import LogisticRegression\n",
    "\n",
    "sns.set()  # This helps make our plots look nicer"
   ]
  },
  {
   "cell_type": "code",
   "execution_count": 2,
   "metadata": {},
   "outputs": [],
   "source": [
    "def make_2x2_table(reality, decisions):\n",
    "    return pd.DataFrame(\n",
    "        confusion_matrix(reality, decisions),\n",
    "        columns = [\"D=0\", \"D=1\"],\n",
    "        index = [\"R=0\", \"R=1\"]\n",
    "    )"
   ]
  },
  {
   "cell_type": "markdown",
   "metadata": {},
   "source": [
    "## Review: comparing row-wise and column-wise rates"
   ]
  },
  {
   "cell_type": "markdown",
   "metadata": {},
   "source": [
    "The FDP is the column-wise error rate for when our decision is 1. It asks: how many of the discoveries we made (i.e., our decision was 1) were false (wrong)?\n",
    "\n",
    "We can relate this to row-wise rates using Bayes' rule. To simplify notation, we'll use $\\pi_0 = P(R =0)$."
   ]
  },
  {
   "cell_type": "markdown",
   "metadata": {},
   "source": [
    "$$\n",
    "\\begin{align*}\n",
    "FDP \n",
    "&= P(R=0|D=1) \\\\ \n",
    "{\\tiny{\\text{(using Bayes' rule)}}} &= \\frac{P(D=1|R=0)P(R=0)}{P(D=1)} \\\\ \n",
    "{\\tiny{\\text{(Law of total probability)}}} &= \\frac{P(D=1|R=0)P(R=0)}{P(D=1|R=0)P(R=0) + P(D=1|R=1)P(R=1)} \\\\\n",
    "{\\tiny{\\text{(dividing by the numerator)}}} &= \\frac{1}{1 + \\frac{P(D = 1 | R = 1)}{P(D=1 | R=0)} \\frac{P(R = 1)}{P(R=0)}}\\\\\n",
    "{\\tiny{\\text{(applying definitions)}}} &= \\frac{1}{1 + \\frac{TPR}{FPR} \\frac{1 - \\pi_0}{\\pi_0}}\n",
    "\\end{align*}\n",
    "$$"
   ]
  },
  {
   "cell_type": "code",
   "execution_count": 3,
   "metadata": {},
   "outputs": [],
   "source": [
    "def compute_fdp(tpr, fpr, prevalence):\n",
    "    return 1 / (1 + (tpr/fpr) * (prevalence / (1 - prevalence)))"
   ]
  },
  {
   "cell_type": "markdown",
   "metadata": {},
   "source": [
    "Suppose we have an algorithm that predicts whether or not it'll rain. We apply our algorithm in Berkeley (where it almost never rains in the summer) and in Miami, FL (where it rains about half the time in the summer)."
   ]
  },
  {
   "cell_type": "code",
   "execution_count": 4,
   "metadata": {},
   "outputs": [
    {
     "data": {
      "text/plain": [
       "0.01"
      ]
     },
     "execution_count": 4,
     "metadata": {},
     "output_type": "execute_result"
    }
   ],
   "source": [
    "# Summer in Miami, good test\n",
    "compute_fdp(tpr=0.99, fpr=0.01, prevalence=0.5)"
   ]
  },
  {
   "cell_type": "code",
   "execution_count": 5,
   "metadata": {},
   "outputs": [
    {
     "data": {
      "text/plain": [
       "0.5"
      ]
     },
     "execution_count": 5,
     "metadata": {},
     "output_type": "execute_result"
    }
   ],
   "source": [
    "# Summer in Berkeley, good test\n",
    "compute_fdp(tpr=0.99, fpr=0.01, prevalence=0.01)"
   ]
  },
  {
   "cell_type": "code",
   "execution_count": 6,
   "metadata": {},
   "outputs": [
    {
     "data": {
      "text/plain": [
       "0.4"
      ]
     },
     "execution_count": 6,
     "metadata": {},
     "output_type": "execute_result"
    }
   ],
   "source": [
    "# Summer in Miami, bad test\n",
    "compute_fdp(tpr=0.6, fpr=0.4, prevalence=0.5)"
   ]
  },
  {
   "cell_type": "code",
   "execution_count": 7,
   "metadata": {
    "scrolled": true
   },
   "outputs": [
    {
     "data": {
      "text/plain": [
       "0.9850746268656717"
      ]
     },
     "execution_count": 7,
     "metadata": {},
     "output_type": "execute_result"
    }
   ],
   "source": [
    "# Summer in Berkeley, bad test\n",
    "compute_fdp(tpr=0.6, fpr=0.4, prevalence=0.01)"
   ]
  },
  {
   "cell_type": "markdown",
   "metadata": {},
   "source": [
    "## Decisions by thresholding: binary classification"
   ]
  },
  {
   "cell_type": "markdown",
   "metadata": {},
   "source": [
    "In this section, we'll work with a dataset predicting breast cancer from biopsy data."
   ]
  },
  {
   "cell_type": "code",
   "execution_count": 8,
   "metadata": {
    "scrolled": true
   },
   "outputs": [],
   "source": [
    "dataset = load_breast_cancer()\n",
    "X = pd.DataFrame(dataset['data'], columns = dataset['feature_names'])\n",
    "y = dataset['target']\n",
    "\n",
    "# Randomly flip 20% of the outputs to make the problem a little harder\n",
    "np.random.seed(42)\n",
    "mask = np.random.random(y.shape) < 0.2\n",
    "y[mask] = 1 - y[mask]\n",
    "\n",
    "X_train, X_test, y_train, y_test = train_test_split(\n",
    "    X, y, test_size = 0.33, random_state = 42\n",
    ")"
   ]
  },
  {
   "cell_type": "code",
   "execution_count": 9,
   "metadata": {
    "scrolled": false
   },
   "outputs": [],
   "source": [
    "# For more information on the dataset, uncomment and run this:\n",
    "# print(dataset[\"DESCR\"])"
   ]
  },
  {
   "cell_type": "markdown",
   "metadata": {},
   "source": [
    "Let's use logistic regression to predict y from X:"
   ]
  },
  {
   "cell_type": "code",
   "execution_count": 10,
   "metadata": {},
   "outputs": [],
   "source": [
    "model = LogisticRegression(solver = \"liblinear\")\n",
    "model.fit(X_train, y_train)\n",
    "y_hat_test = model.predict(X_test)"
   ]
  },
  {
   "cell_type": "markdown",
   "metadata": {},
   "source": [
    "Now, we can use our 2x2 table to evaluate the performance:"
   ]
  },
  {
   "cell_type": "code",
   "execution_count": 11,
   "metadata": {},
   "outputs": [
    {
     "data": {
      "text/html": [
       "<div>\n",
       "<style scoped>\n",
       "    .dataframe tbody tr th:only-of-type {\n",
       "        vertical-align: middle;\n",
       "    }\n",
       "\n",
       "    .dataframe tbody tr th {\n",
       "        vertical-align: top;\n",
       "    }\n",
       "\n",
       "    .dataframe thead th {\n",
       "        text-align: right;\n",
       "    }\n",
       "</style>\n",
       "<table border=\"1\" class=\"dataframe\">\n",
       "  <thead>\n",
       "    <tr style=\"text-align: right;\">\n",
       "      <th></th>\n",
       "      <th>D=0</th>\n",
       "      <th>D=1</th>\n",
       "    </tr>\n",
       "  </thead>\n",
       "  <tbody>\n",
       "    <tr>\n",
       "      <th>R=0</th>\n",
       "      <td>41</td>\n",
       "      <td>32</td>\n",
       "    </tr>\n",
       "    <tr>\n",
       "      <th>R=1</th>\n",
       "      <td>16</td>\n",
       "      <td>99</td>\n",
       "    </tr>\n",
       "  </tbody>\n",
       "</table>\n",
       "</div>"
      ],
      "text/plain": [
       "     D=0  D=1\n",
       "R=0   41   32\n",
       "R=1   16   99"
      ]
     },
     "execution_count": 11,
     "metadata": {},
     "output_type": "execute_result"
    }
   ],
   "source": [
    "make_2x2_table(reality=y_test, decisions=y_hat_test)"
   ]
  },
  {
   "cell_type": "markdown",
   "metadata": {},
   "source": [
    "*Check: what is the false positive rate for these predictions? What about the false discovery rate?*"
   ]
  },
  {
   "cell_type": "code",
   "execution_count": null,
   "metadata": {},
   "outputs": [],
   "source": []
  },
  {
   "cell_type": "markdown",
   "metadata": {},
   "source": [
    "For patients with cancer (R=1), we're correct $86\\%$ of the time. What if this isn't enough? Suppose we need a higher true positive rate: what can we do?\n",
    "\n",
    "Recall that a logistic regression model's predictions are probabilities between 0 and 1: we always threshold these to obtain binary decisions.\n",
    "\n",
    "So, let's look at the probabilities directly:"
   ]
  },
  {
   "cell_type": "code",
   "execution_count": 12,
   "metadata": {
    "scrolled": true
   },
   "outputs": [
    {
     "data": {
      "text/plain": [
       "array([0.59, 0.35, 0.45, 0.81, 0.82, 0.14, 0.18, 0.42, 0.43, 0.75, 0.7 ,\n",
       "       0.46, 0.71, 0.52, 0.71, 0.44, 0.73, 0.88, 0.79, 0.2 , 0.63, 0.75,\n",
       "       0.14, 0.78, 0.77, 0.75, 0.76, 0.81, 0.73, 0.28, 0.74, 0.77, 0.65,\n",
       "       0.7 , 0.78, 0.72, 0.53, 0.65, 0.42, 0.64, 0.78, 0.44, 0.71, 0.73,\n",
       "       0.8 , 0.65, 0.71, 0.78, 0.65, 0.74, 0.39, 0.32, 0.66, 0.78, 0.67,\n",
       "       0.69, 0.76, 0.05, 0.66, 0.76, 0.69, 0.2 , 0.11, 0.68, 0.77, 0.6 ,\n",
       "       0.29, 0.1 , 0.81, 0.69, 0.45, 0.43, 0.78, 0.52, 0.7 , 0.7 , 0.71,\n",
       "       0.59, 0.8 , 0.67, 0.49, 0.76, 0.66, 0.12, 0.41, 0.42, 0.22, 0.28,\n",
       "       0.79, 0.74, 0.68, 0.66, 0.67, 0.9 , 0.81, 0.74, 0.29, 0.33, 0.79,\n",
       "       0.38, 0.46, 0.8 , 0.39, 0.41, 0.65, 0.67, 0.73, 0.11, 0.7 , 0.62,\n",
       "       0.42, 0.73, 0.64, 0.48, 0.41, 0.14, 0.81, 0.68, 0.75, 0.46, 0.59,\n",
       "       0.77, 0.68, 0.33, 0.67, 0.17, 0.46, 0.66, 0.72, 0.28, 0.45, 0.35,\n",
       "       0.66, 0.78, 0.66, 0.49, 0.68, 0.78, 0.56, 0.43, 0.74, 0.41, 0.77,\n",
       "       0.79, 0.51, 0.74, 0.34, 0.23, 0.54, 0.72, 0.52, 0.76, 0.78, 0.7 ,\n",
       "       0.77, 0.11, 0.33, 0.68, 0.63, 0.83, 0.96, 0.71, 0.71, 0.72, 0.56,\n",
       "       0.68, 0.77, 0.65, 0.69, 0.5 , 0.68, 0.68, 0.72, 0.6 , 0.74, 0.69,\n",
       "       0.53, 0.68, 0.68, 0.69, 0.68, 0.6 , 0.76, 0.44, 0.32, 0.49, 0.6 ,\n",
       "       0.69])"
      ]
     },
     "execution_count": 12,
     "metadata": {},
     "output_type": "execute_result"
    }
   ],
   "source": [
    "predicted_probs = model.predict_proba(X_test)[:, 1]\n",
    "predicted_probs.round(2)"
   ]
  },
  {
   "cell_type": "markdown",
   "metadata": {},
   "source": [
    "The predictions we used earlier were based on thresholding these probabilities at $0.5$. What if we try a different threshold?\n",
    "\n",
    "If we want to do better than $86\\%$ on patients with cancer, should the threshold be higher or lower than $0.5$? Experiment with different thresholds in this cell. What do you find?"
   ]
  },
  {
   "cell_type": "code",
   "execution_count": 13,
   "metadata": {},
   "outputs": [
    {
     "data": {
      "text/html": [
       "<div>\n",
       "<style scoped>\n",
       "    .dataframe tbody tr th:only-of-type {\n",
       "        vertical-align: middle;\n",
       "    }\n",
       "\n",
       "    .dataframe tbody tr th {\n",
       "        vertical-align: top;\n",
       "    }\n",
       "\n",
       "    .dataframe thead th {\n",
       "        text-align: right;\n",
       "    }\n",
       "</style>\n",
       "<table border=\"1\" class=\"dataframe\">\n",
       "  <thead>\n",
       "    <tr style=\"text-align: right;\">\n",
       "      <th></th>\n",
       "      <th>D=0</th>\n",
       "      <th>D=1</th>\n",
       "    </tr>\n",
       "  </thead>\n",
       "  <tbody>\n",
       "    <tr>\n",
       "      <th>R=0</th>\n",
       "      <td>41</td>\n",
       "      <td>32</td>\n",
       "    </tr>\n",
       "    <tr>\n",
       "      <th>R=1</th>\n",
       "      <td>16</td>\n",
       "      <td>99</td>\n",
       "    </tr>\n",
       "  </tbody>\n",
       "</table>\n",
       "</div>"
      ],
      "text/plain": [
       "     D=0  D=1\n",
       "R=0   41   32\n",
       "R=1   16   99"
      ]
     },
     "execution_count": 13,
     "metadata": {},
     "output_type": "execute_result"
    }
   ],
   "source": [
    "threshold = 0.5\n",
    "y_preds = (predicted_probs > threshold).astype(int)\n",
    "make_2x2_table(y_test, y_preds)"
   ]
  },
  {
   "cell_type": "markdown",
   "metadata": {},
   "source": [
    "Let's visualize these predictions and our threshold:\n"
   ]
  },
  {
   "cell_type": "code",
   "execution_count": 14,
   "metadata": {},
   "outputs": [
    {
     "data": {
      "image/png": "[encoded data removed]",
      "text/plain": [
       "<Figure size 720x360 with 1 Axes>"
      ]
     },
     "metadata": {},
     "output_type": "display_data"
    }
   ],
   "source": [
    "threshold = 0.5\n",
    "\n",
    "plt.figure(figsize = (10,5))\n",
    "sns.stripplot(x=predicted_probs, y=y_test, alpha = 0.8, order = [0, 1], orient = \"h\")\n",
    "plt.axvline(threshold, c = \"k\", label = \"threshold\")\n",
    "plt.xlabel(\"Predicted class 1 probability\")\n",
    "plt.ylabel(\"True label\")\n",
    "plt.title(\"True class vs predicted class probability\")\n",
    "plt.legend()\n",
    "plt.show()"
   ]
  },
  {
   "cell_type": "markdown",
   "metadata": {},
   "source": [
    "The blue points on the top correspond to healthy patients (R=0), and the orange points on the bototm correspond to cancer patients (R=1). For any point that falls to the left of the black line, we declare D=0.\n",
    "\n",
    "Using this plot, where do we need to set the threshold to guarantee all the cancer patients (blue points) are classified correctly?"
   ]
  },
  {
   "cell_type": "markdown",
   "metadata": {},
   "source": [
    "### ROC curves"
   ]
  },
  {
   "cell_type": "markdown",
   "metadata": {},
   "source": [
    "Instead of trying one threshold at a time and seeing what we get, it would be nice if we could visualize the results from multiple thresholds all at once. This is what an ROC curve is for."
   ]
  },
  {
   "cell_type": "code",
   "execution_count": 15,
   "metadata": {},
   "outputs": [],
   "source": [
    "def get_tpr_fpr(reality, decision_probs, threshold):\n",
    "    # Compute the denominators for the top and bottom rows (reality=0, reality=1)\n",
    "    r1_count = reality.sum()\n",
    "    r0_count = (1-reality).sum()\n",
    "    decisions = (decision_probs >= threshold).astype(int)\n",
    "    table = confusion_matrix(reality, decisions)\n",
    "    tp_count = table[1,1]\n",
    "    fp_count = table[0,1]\n",
    "    tpr = tp_count / r1_count\n",
    "    fpr = fp_count / r0_count\n",
    "    \n",
    "    return tpr, fpr"
   ]
  },
  {
   "cell_type": "code",
   "execution_count": 16,
   "metadata": {},
   "outputs": [
    {
     "data": {
      "text/html": [
       "<div>\n",
       "<style scoped>\n",
       "    .dataframe tbody tr th:only-of-type {\n",
       "        vertical-align: middle;\n",
       "    }\n",
       "\n",
       "    .dataframe tbody tr th {\n",
       "        vertical-align: top;\n",
       "    }\n",
       "\n",
       "    .dataframe thead th {\n",
       "        text-align: right;\n",
       "    }\n",
       "</style>\n",
       "<table border=\"1\" class=\"dataframe\">\n",
       "  <thead>\n",
       "    <tr style=\"text-align: right;\">\n",
       "      <th></th>\n",
       "      <th>threshold</th>\n",
       "      <th>TPR</th>\n",
       "      <th>FPR</th>\n",
       "    </tr>\n",
       "  </thead>\n",
       "  <tbody>\n",
       "    <tr>\n",
       "      <th>0</th>\n",
       "      <td>0.0</td>\n",
       "      <td>1.000000</td>\n",
       "      <td>1.000000</td>\n",
       "    </tr>\n",
       "    <tr>\n",
       "      <th>1</th>\n",
       "      <td>0.1</td>\n",
       "      <td>1.000000</td>\n",
       "      <td>0.986301</td>\n",
       "    </tr>\n",
       "    <tr>\n",
       "      <th>2</th>\n",
       "      <td>0.2</td>\n",
       "      <td>0.973913</td>\n",
       "      <td>0.876712</td>\n",
       "    </tr>\n",
       "    <tr>\n",
       "      <th>3</th>\n",
       "      <td>0.3</td>\n",
       "      <td>0.965217</td>\n",
       "      <td>0.780822</td>\n",
       "    </tr>\n",
       "    <tr>\n",
       "      <th>4</th>\n",
       "      <td>0.4</td>\n",
       "      <td>0.939130</td>\n",
       "      <td>0.671233</td>\n",
       "    </tr>\n",
       "    <tr>\n",
       "      <th>5</th>\n",
       "      <td>0.5</td>\n",
       "      <td>0.860870</td>\n",
       "      <td>0.438356</td>\n",
       "    </tr>\n",
       "    <tr>\n",
       "      <th>6</th>\n",
       "      <td>0.6</td>\n",
       "      <td>0.826087</td>\n",
       "      <td>0.315068</td>\n",
       "    </tr>\n",
       "    <tr>\n",
       "      <th>7</th>\n",
       "      <td>0.7</td>\n",
       "      <td>0.521739</td>\n",
       "      <td>0.109589</td>\n",
       "    </tr>\n",
       "    <tr>\n",
       "      <th>8</th>\n",
       "      <td>0.8</td>\n",
       "      <td>0.078261</td>\n",
       "      <td>0.027397</td>\n",
       "    </tr>\n",
       "    <tr>\n",
       "      <th>9</th>\n",
       "      <td>0.9</td>\n",
       "      <td>0.008696</td>\n",
       "      <td>0.000000</td>\n",
       "    </tr>\n",
       "    <tr>\n",
       "      <th>10</th>\n",
       "      <td>1.0</td>\n",
       "      <td>0.000000</td>\n",
       "      <td>0.000000</td>\n",
       "    </tr>\n",
       "  </tbody>\n",
       "</table>\n",
       "</div>"
      ],
      "text/plain": [
       "    threshold       TPR       FPR\n",
       "0         0.0  1.000000  1.000000\n",
       "1         0.1  1.000000  0.986301\n",
       "2         0.2  0.973913  0.876712\n",
       "3         0.3  0.965217  0.780822\n",
       "4         0.4  0.939130  0.671233\n",
       "5         0.5  0.860870  0.438356\n",
       "6         0.6  0.826087  0.315068\n",
       "7         0.7  0.521739  0.109589\n",
       "8         0.8  0.078261  0.027397\n",
       "9         0.9  0.008696  0.000000\n",
       "10        1.0  0.000000  0.000000"
      ]
     },
     "execution_count": 16,
     "metadata": {},
     "output_type": "execute_result"
    }
   ],
   "source": [
    "results = []\n",
    "thresholds = np.arange(0, 1.01, 0.1)\n",
    "for threshold in thresholds:\n",
    "    TPR, FPR = get_tpr_fpr(y_test, predicted_probs, threshold)\n",
    "    results.append((threshold, TPR, FPR))\n",
    "results = pd.DataFrame(results, columns = [\"threshold\", \"TPR\", \"FPR\"])\n",
    "results"
   ]
  },
  {
   "cell_type": "code",
   "execution_count": 17,
   "metadata": {},
   "outputs": [
    {
     "data": {
      "text/plain": [
       "Text(0.5, 1.0, 'FPR vs TPR')"
      ]
     },
     "execution_count": 17,
     "metadata": {},
     "output_type": "execute_result"
    },
    {
     "data": {
      "image/png": "[encoded data removed]",
      "text/plain": [
       "<Figure size 360x360 with 1 Axes>"
      ]
     },
     "metadata": {},
     "output_type": "display_data"
    }
   ],
   "source": [
    "plt.figure(figsize=(5, 5))\n",
    "plt.scatter(results[\"FPR\"], results[\"TPR\"])\n",
    "plt.xlabel(\"FPR\")\n",
    "plt.ylabel(\"TPR\")\n",
    "plt.xlim([-0.05, 1.05])\n",
    "plt.ylim([-0.05, 1.05])\n",
    "plt.title(\"FPR vs TPR\")"
   ]
  },
  {
   "cell_type": "code",
   "execution_count": 18,
   "metadata": {},
   "outputs": [
    {
     "data": {
      "text/plain": [
       "Text(0.5, 1.0, 'FPR vs TPR')"
      ]
     },
     "execution_count": 18,
     "metadata": {},
     "output_type": "execute_result"
    },
    {
     "data": {
      "image/png": "[encoded data removed]",
      "text/plain": [
       "<Figure size 360x360 with 1 Axes>"
      ]
     },
     "metadata": {},
     "output_type": "display_data"
    }
   ],
   "source": [
    "plt.figure(figsize=(5, 5))\n",
    "plt.plot(results[\"FPR\"], results[\"TPR\"])\n",
    "plt.xlabel(\"FPR\")\n",
    "plt.ylabel(\"TPR\")\n",
    "plt.xlim([-0.05, 1.05])\n",
    "plt.ylim([-0.05, 1.05])\n",
    "plt.title(\"FPR vs TPR\")"
   ]
  },
  {
   "cell_type": "markdown",
   "metadata": {},
   "source": [
    "#### ROC curves in scikit-learn"
   ]
  },
  {
   "cell_type": "markdown",
   "metadata": {},
   "source": [
    "It turns out `scikit-learn` already does (almost) all this work for us, using the `roc_curve` function."
   ]
  },
  {
   "cell_type": "code",
   "execution_count": 19,
   "metadata": {},
   "outputs": [],
   "source": [
    "from sklearn.metrics import roc_curve, roc_auc_score"
   ]
  },
  {
   "cell_type": "code",
   "execution_count": 20,
   "metadata": {},
   "outputs": [],
   "source": [
    "fpr, tpr, _ = roc_curve(y_test, predicted_probs)"
   ]
  },
  {
   "cell_type": "code",
   "execution_count": 21,
   "metadata": {},
   "outputs": [
    {
     "data": {
      "image/png": "[encoded data removed]",
      "text/plain": [
       "<Figure size 360x360 with 1 Axes>"
      ]
     },
     "metadata": {},
     "output_type": "display_data"
    }
   ],
   "source": [
    "plt.figure(figsize=(5, 5))\n",
    "plt.plot(fpr, tpr)\n",
    "plt.xlabel(\"FPR\")\n",
    "plt.ylabel(\"TPR\")\n",
    "plt.xlim([-0.05, 1.05])\n",
    "plt.ylim([-0.05, 1.05])\n",
    "plt.title(\"ROC curve (TPR vs FPR)\")\n",
    "plt.show()"
   ]
  },
  {
   "cell_type": "markdown",
   "metadata": {},
   "source": [
    "### Precision-recall curves"
   ]
  },
  {
   "cell_type": "markdown",
   "metadata": {},
   "source": [
    "The ROC curve is useful if we want to compare the tradeoff between doing well when reality = 0 and doing well when reality = 1 (in other words, between performance in the top row and bottom of our table).\n",
    "\n",
    "We can also look at the tradeoff between FDP (column-wise performance for the right column) and TPR (row-wise performance for the bottom row). The standard way that people do this is by plotting a precision-recall curve. The precision is defined to be 1 - FDP (in other words, when we make a discovery, how often is that discovery correct?)."
   ]
  },
  {
   "cell_type": "code",
   "execution_count": 22,
   "metadata": {},
   "outputs": [],
   "source": [
    "from sklearn.metrics import precision_recall_curve"
   ]
  },
  {
   "cell_type": "code",
   "execution_count": 23,
   "metadata": {},
   "outputs": [],
   "source": [
    "precision, recall, _ = precision_recall_curve(y_test, predicted_probs)"
   ]
  },
  {
   "cell_type": "code",
   "execution_count": 24,
   "metadata": {
    "scrolled": false
   },
   "outputs": [
    {
     "data": {
      "image/png": "[encoded data removed]",
      "text/plain": [
       "<Figure size 360x360 with 1 Axes>"
      ]
     },
     "metadata": {},
     "output_type": "display_data"
    }
   ],
   "source": [
    "plt.figure(figsize = (5, 5))\n",
    "plt.plot(recall, precision)\n",
    "plt.xlabel(\"Recall (TPR)\")\n",
    "plt.ylabel(\"Precision (1-FDP)\")\n",
    "plt.xlim([-0.05, 1.05])\n",
    "plt.ylim([-0.05, 1.05])\n",
    "plt.title(\"Precision (1-FDP) vs Recall (TPR)\")\n",
    "plt.show()"
   ]
  },
  {
   "cell_type": "markdown",
   "metadata": {},
   "source": [
    "## Multiple hypothesis testing and error control"
   ]
  },
  {
   "cell_type": "code",
   "execution_count": 90,
   "metadata": {
    "scrolled": true
   },
   "outputs": [
    {
     "data": {
      "text/html": [
       "<div>\n",
       "<style scoped>\n",
       "    .dataframe tbody tr th:only-of-type {\n",
       "        vertical-align: middle;\n",
       "    }\n",
       "\n",
       "    .dataframe tbody tr th {\n",
       "        vertical-align: top;\n",
       "    }\n",
       "\n",
       "    .dataframe thead th {\n",
       "        text-align: right;\n",
       "    }\n",
       "</style>\n",
       "<table border=\"1\" class=\"dataframe\">\n",
       "  <thead>\n",
       "    <tr style=\"text-align: right;\">\n",
       "      <th></th>\n",
       "      <th>pvalue</th>\n",
       "      <th>is_alternative</th>\n",
       "    </tr>\n",
       "  </thead>\n",
       "  <tbody>\n",
       "    <tr>\n",
       "      <th>0</th>\n",
       "      <td>0.386900</td>\n",
       "      <td>0</td>\n",
       "    </tr>\n",
       "    <tr>\n",
       "      <th>1</th>\n",
       "      <td>0.311005</td>\n",
       "      <td>0</td>\n",
       "    </tr>\n",
       "    <tr>\n",
       "      <th>2</th>\n",
       "      <td>0.000047</td>\n",
       "      <td>1</td>\n",
       "    </tr>\n",
       "    <tr>\n",
       "      <th>3</th>\n",
       "      <td>0.141646</td>\n",
       "      <td>0</td>\n",
       "    </tr>\n",
       "    <tr>\n",
       "      <th>4</th>\n",
       "      <td>0.014320</td>\n",
       "      <td>0</td>\n",
       "    </tr>\n",
       "  </tbody>\n",
       "</table>\n",
       "</div>"
      ],
      "text/plain": [
       "     pvalue  is_alternative\n",
       "0  0.386900               0\n",
       "1  0.311005               0\n",
       "2  0.000047               1\n",
       "3  0.141646               0\n",
       "4  0.014320               0"
      ]
     },
     "execution_count": 90,
     "metadata": {},
     "output_type": "execute_result"
    }
   ],
   "source": [
    "p_values = pd.read_csv('pvalues.csv')\n",
    "p_values.head()"
   ]
  },
  {
   "cell_type": "code",
   "execution_count": 91,
   "metadata": {},
   "outputs": [
    {
     "data": {
      "text/plain": [
       "<AxesSubplot:xlabel='pvalue', ylabel='is_alternative'>"
      ]
     },
     "execution_count": 91,
     "metadata": {},
     "output_type": "execute_result"
    },
    {
     "data": {
      "image/png": "[encoded data removed]",
      "text/plain": [
       "<Figure size 432x288 with 1 Axes>"
      ]
     },
     "metadata": {},
     "output_type": "display_data"
    }
   ],
   "source": [
    "sns.stripplot(\n",
    "    data=p_values, x='pvalue', y='is_alternative', \n",
    "    alpha = 0.8, order = [0, 1], orient = \"h\"\n",
    ")"
   ]
  },
  {
   "cell_type": "code",
   "execution_count": 92,
   "metadata": {},
   "outputs": [],
   "source": [
    "p_sorted = p_values.sort_values('pvalue')"
   ]
  },
  {
   "cell_type": "code",
   "execution_count": 93,
   "metadata": {},
   "outputs": [],
   "source": [
    "N = 50\n",
    "k = np.arange(1, N+1)\n",
    "alpha = .05"
   ]
  },
  {
   "cell_type": "code",
   "execution_count": 94,
   "metadata": {},
   "outputs": [
    {
     "data": {
      "image/png": "[encoded data removed]",
      "text/plain": [
       "<Figure size 432x288 with 1 Axes>"
      ]
     },
     "metadata": {},
     "output_type": "display_data"
    }
   ],
   "source": [
    "sns.scatterplot(x=k, y=p_sorted['pvalue'], hue=p_sorted['is_alternative']);"
   ]
  },
  {
   "cell_type": "code",
   "execution_count": 95,
   "metadata": {},
   "outputs": [
    {
     "data": {
      "image/png": "[encoded data removed]",
      "text/plain": [
       "<Figure size 432x288 with 1 Axes>"
      ]
     },
     "metadata": {},
     "output_type": "display_data"
    }
   ],
   "source": [
    "sns.scatterplot(x=k, y=p_sorted['pvalue'], hue=p_sorted['is_alternative']);\n",
    "plt.axhline(alpha, label='No correction', color='black')\n",
    "plt.axhline(alpha / N, label='Bonferroni guide', color='tab:red')\n",
    "plt.plot(k, k/N * alpha, label='B-H', color='cyan')\n",
    "plt.legend();"
   ]
  },
  {
   "cell_type": "code",
   "execution_count": 96,
   "metadata": {},
   "outputs": [
    {
     "data": {
      "image/png": "[encoded data removed]",
      "text/plain": [
       "<Figure size 432x288 with 1 Axes>"
      ]
     },
     "metadata": {},
     "output_type": "display_data"
    }
   ],
   "source": [
    "sns.scatterplot(x=k, y=p_sorted['pvalue'], hue=p_sorted['is_alternative'])\n",
    "plt.axhline(alpha, label='No correction', color='black')\n",
    "plt.axhline(alpha / N, label='Bonferroni guide', color='tab:red')\n",
    "plt.plot(k, k/N * alpha, label='B-H', color='cyan')\n",
    "plt.legend()\n",
    "\n",
    "plt.axis([-0.01, 25, -0.005, .05]);"
   ]
  }
 ],
 "metadata": {
  "kernelspec": {
   "display_name": "Python 3 (ipykernel)",
   "language": "python",
   "name": "python3"
  },
  "language_info": {
   "codemirror_mode": {
    "name": "ipython",
    "version": 3
   },
   "file_extension": ".py",
   "mimetype": "text/x-python",
   "name": "python",
   "nbconvert_exporter": "python",
   "pygments_lexer": "ipython3",
   "version": "3.9.6"
  }
 },
 "nbformat": 4,
 "nbformat_minor": 4
}
