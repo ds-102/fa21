{
 "cells": [
  {
   "cell_type": "markdown",
   "id": "f1f1dfab",
   "metadata": {},
   "source": [
    "## Question 3e (**correction**)\n",
    "\n",
    "*The intuition for propensity scores on the lab made some important mistakes. Here are some corrections (things that were changed are written in* **bold**):\n",
    "\n",
    "We could use the propensity scores for a number of things, including matching (as described in Discussion 7), but in this lab we'll focus on inverse propensity weighting (IPW). Recall from lecture that the IPW estimator of the ATE is:\n",
    "\n",
    "$$\n",
    "\\hat{\\tau}_{IPW} = \\frac{1}{n} \\Bigg[\n",
    "    \\underbrace{%\n",
    "         \\sum_{i: Z_i = 1} \\frac{Y_i}{e(X_i)}\n",
    "    }_{\\text{weighted sum of treated rows}}\n",
    "    -\n",
    "    \\underbrace{%\n",
    "         \\sum_{i: Z_i = 0} \\frac{Y_i}{1-e(X_i)}\n",
    "    }_{\\text{weighted sum of untreated rows}}\n",
    "    \\Bigg]\n",
    "$$\n",
    "\n",
    "Note that the weights are different for the two groups, **but the fraction $\\frac{1}{n}$ is the same**. Intuitively, the weights decrease the importance of points that have a high probability of being in the group that they're in. \n",
    "\n",
    "For example, consider two individuals from the CPS data: person A, who looks very different from the treatment (NSW) population, and person B, who looks much more similar to the treatment (NSW) population. Person A's propensity score will be much closer to **0 (since they don't look like the treatment group, their probability of being treated is low)**, and so the denominator $1-e(X_A)$ will be **large, decreasing** our weight of their outcome (**because they don't look like the treatment group**). On the other hand, person B's propensity score will be closer to **1, so the denominator $1-e(X_B)$ will be small, increasing** our weight of their outcome. This way, we give less weight to person **A**, who doesn't look like someone from the treatment group anyway. **We want to give more weight to people like B, who are a better counterfactual comparison to the people who received the treatment.**\n",
    "\n",
    "Complete the cell below to compute the IPW estimate for the ATE."
   ]
  }
 ],
 "metadata": {
  "kernelspec": {
   "display_name": "Python 3",
   "language": "python",
   "name": "python3"
  },
  "language_info": {
   "codemirror_mode": {
    "name": "ipython",
    "version": 3
   },
   "file_extension": ".py",
   "mimetype": "text/x-python",
   "name": "python",
   "nbconvert_exporter": "python",
   "pygments_lexer": "ipython3",
   "version": "3.8.8"
  }
 },
 "nbformat": 4,
 "nbformat_minor": 5
}
