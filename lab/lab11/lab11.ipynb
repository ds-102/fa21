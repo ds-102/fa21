{
 "cells": [
  {
   "cell_type": "markdown",
   "metadata": {},
   "source": [
    "# Lab 11: Differential Privacy\n",
    "Welcome to the 11th (and final) DS102 lab!!\n",
    "\n",
    "The goal of this lab is to gain a better understanding of differential privacy. We will observe what happens after the Laplace mechanism is applied to an estimator, which is discussed in Tuesday's (today's) lecture. This demonstration is related to an experiment done by [Duchi et al. 2017](https://arxiv.org/abs/1604.02390).\n",
    "\n",
    "The code you need to write is commented out with a message \"TODO: fill ...\". There is additional documentation for each part as you go along.\n",
    "\n",
    "## Collaboration Policy \n",
    "Data science is a collaborative activity. While you may talk with others about the labs, we ask that you **write your solutions individually**. If you do discuss the assignments with others please **include their names** in the cell below.\n",
    "\n",
    "## Gradescope Submission \n",
    "To submit this assignment, rerun the notebook from scratch (by selecting Kernel > Restart & Run all), and then print as a pdf (File > download as > pdf) and submit it to Gradescope.\n",
    "\n",
    "\n",
    "**This assignment should be completed and submitted before Sunday, May 02, 2020 at 11:59 PM. PT**"
   ]
  },
  {
   "cell_type": "code",
   "execution_count": null,
   "metadata": {},
   "outputs": [],
   "source": [
    "import numpy as np\n",
    "import pandas as pd\n",
    "import matplotlib.pyplot as plt\n",
    "from scipy.stats import bernoulli\n",
    "%matplotlib inline"
   ]
  },
  {
   "cell_type": "markdown",
   "metadata": {},
   "source": [
    "# National Estimates of Drug-Related Emergency Department Visits (NEDREDV)\n",
    "\n",
    "In this lab, we will analyze drug use data from the [National Estimates\n",
    "of Drug-Related Emergency Department Visits (NEDREDV)](https://www.samhsa.gov/data/report/national-estimates-drug-related-emergency-department-visits-2004-2011-all-visits).\n",
    "\n",
    "The NEDREDV dataset tracks the number of hospital emergency department visits related to drug usage in a given year. We look at data from 2004 and consider the number of hospital admissions for several common drugs:  *Alcohol, Cocaine, Heroin, Marijuana, Stimulants, Amphetamines, Methamphetamine, MDMA, LSD, PCP, Antidepressants, Antipsychotics, Miscellaneous hallucinogens, Inhalants, lithium, Opiates,\n",
    "Opiates unspecified, Narcotic analgesics, Buprenorphine, Codeine, Fentanyl, Hydrocodone, Methadone, Morphine,\n",
    "Oxycodone, Ibuprofen, and Muscle relaxants.*\n",
    "\n",
    "The NEDREDV dataset that we import includes the $d = 27$ drugs, and the observed probability that a person admitted to the hospital for drug abuse in 2004 used drug $j$. Note that a person admitted to the hospital could have used multiple drugs simultaneously, so the probabilities do not sum to 1."
   ]
  },
  {
   "cell_type": "code",
   "execution_count": null,
   "metadata": {},
   "outputs": [],
   "source": [
    "nedredv_df = pd.read_csv('nedredv_probs.csv')"
   ]
  },
  {
   "cell_type": "code",
   "execution_count": null,
   "metadata": {
    "scrolled": true
   },
   "outputs": [],
   "source": [
    "nedredv_df"
   ]
  },
  {
   "cell_type": "markdown",
   "metadata": {},
   "source": [
    "## Simulating a privacy-sensitive dataset \n",
    "\n",
    "The NEDREDV dataset itself does not contain the actual drug usage of each individual person admitted to the hospital: it only contains rates of the total number of people admitted to the hospital for using each drug. For the purposes of this lab, we will instead *simulate* a  privacy-sensitive dataset that contains the drug usage of the individuals admitted to the hospital. We will generate a dataset $X = \\{X_1, . . . , X_N \\}$ where each $X_i \\in \\{0, 1\\}^d$ represents an individual admitted to the hospital, and $X_{i,j}$ is 1 if the individual abuses drug $j$ and 0 otherwise. Since drug use is a sensitive topic, it would certainly be a privacy problem if such a dataset $X$ containing the drug usage of individuals admitted to the hospital were made public (and it would likely violate [HIPAA](https://www.hhs.gov/hipaa/index.html)). \n",
    "\n",
    "To generate this privacy-sensitive dataset, let $p_j$ be the observed probability that a person admitted to the hospital used drug $j$ according to the NEDREDV data from 2004. We draw $$X_{i,j} \\sim Bernoulli(p_j)$$ independently for all $i = 1,...,N$ and for all $j = 1,...,d$. This results in a set of hypothetical individuals $X_1,...,X_N$ where the marginal counts $\\frac{1}{N}\\sum_{i=1}^N X_{i,j}$ yield approximately the correct drug use frequencies to match the NEDREDV data. "
   ]
  },
  {
   "cell_type": "code",
   "execution_count": null,
   "metadata": {},
   "outputs": [],
   "source": [
    "def simulate_private_data(nedredv_df, N=30000, random_seed = None):\n",
    "    \"\"\"Simulates the privacy-sensitive dataset with individual drug usage.\n",
    "    \n",
    "    Inputs: \n",
    "        nedredv_df : dataframe containing the drug and the probability that an admittee used the drug.\n",
    "        N : number of individuals to generate.\n",
    "        random_seed : int, random seed for experimental reproducibility\n",
    "      \n",
    "    Returns:\n",
    "        X_df : dataframe containing N rows where each row corresponds to an admitted individual, \n",
    "            and a 1 in a column corresponding to a given drug means that the individual used that drug.\n",
    "    \"\"\"\n",
    "    X = {}\n",
    "    for index, row in nedredv_df.iterrows(): \n",
    "        drug_name = row['Substance']\n",
    "        observed_probability = row['Probability']\n",
    "        X_row = bernoulli.rvs(observed_probability, size=N, random_state = np.random.RandomState(seed=random_seed))\n",
    "        X[drug_name] = X_row\n",
    "        X_df = pd.DataFrame(X)\n",
    "    return X_df"
   ]
  },
  {
   "cell_type": "code",
   "execution_count": null,
   "metadata": {},
   "outputs": [],
   "source": [
    "X_df = simulate_private_data(nedredv_df, random_seed = 22)\n",
    "X_df.head()"
   ]
  },
  {
   "cell_type": "markdown",
   "metadata": {},
   "source": [
    "Notice that each row of the dataframe X_df corresponds to an individual, $X_i$, and a $1$ in a column corresponding to a given drug means that the individual used that drug. An individual admitted to the hospital could have used multiple drugs simultaneously."
   ]
  },
  {
   "cell_type": "markdown",
   "metadata": {},
   "source": [
    "# Goal: Mean estimation with differential privacy\n",
    "\n",
    "From now on, we will treat the dataset that we just generated as ground truth. We will seek to analyze statistics about this data without hurting the privacy of the individuals in the dataset that we just generated.\n",
    "\n",
    "Specifically, the statistic we want to estimate is the mean of the population:\n",
    "$\\theta = E[X]$. But, the catch is that we want to estimate this mean in a **differentially private** way. \n",
    "\n",
    "## The true mean\n",
    "Based on the way the data was generated, we know that the true mean of the distribution that the samples were drawn from is the original probabilities from the NEDREDV dataset. Our goal will be to estimate this true mean from the dataset that we generated in a differentially private way."
   ]
  },
  {
   "cell_type": "code",
   "execution_count": null,
   "metadata": {},
   "outputs": [],
   "source": [
    "TRUE_MEAN = nedredv_df['Probability'].to_numpy()\n",
    "print(nedredv_df)"
   ]
  },
  {
   "cell_type": "markdown",
   "metadata": {},
   "source": [
    "## Differential privacy \n",
    "\n",
    "The idea behind differential privacy is that any given individual should be willing to participate in the statistical analysis\n",
    "because their participation in the study does not change the outcome of the study by very much;\n",
    "their personal information cannot be recovered from the results of either removing or adding them to the study. This applies to the individuals in the dataset we generated: removing any individual from the data should not change our mean estimate that much. Otherwise, it may be possible to recover the drug usage of an individual based on a mean estimate that includes the individual and another mean estimate that doesn't include the individual.\n",
    "\n",
    "For two datasets $X$ and $X'$ which differ in only one entry (e.g., differing in one individual), an $\\epsilon$-**differentially private algorithm** $\\mathcal{A}$ satisfies:\n",
    "\n",
    "$$\\mathbb{P}\\{\\mathcal{A}(X) = a\\} \\leq e^{\\epsilon}\\mathbb{P}\\{\\mathcal{A}(X')= a\\},$$\n",
    "\n",
    "for all possible output values $a$ of the algorithm $\\mathcal{A}$. In words, the probability of seeing any given output of a differentially private algorithm doesn't change much by replacing any one entry in the dataset.\n",
    "\n",
    "We will explore three algorithms for estimating the mean in this lab:\n",
    "\n",
    "1. **Algorithm 1: Non-private:** we will simply take the sample mean of the given data $X$, $$\\hat{\\theta} = \\mathcal{A}(X) = f(X) = \\frac{1}{N}\\sum_{i=1}^N X_i.$$ This is not differentially private: we can recover the drug usage of an individual if we estimate the mean before and after removing the individual.\n",
    "\n",
    "2. **Algorithm 2: Laplace mechanism:** To introduce differential privacy, we can apply the Laplace mechanism that we went over in Discussion 13. Given the non-private estimator $f(X)$, we can add noise $\\xi_{\\epsilon}$: $$\\hat{\\theta} = \\mathcal{A}(X) = f(X) + \\xi_{\\epsilon} = \\left(\\frac{1}{N}\\sum_{i=1}^N X_i\\right) + \\xi_{\\epsilon}.$$ We will go over this algorithm in more detail later in the lab.\n",
    "\n",
    "3. **Algorithm 3: Locally differentially private Laplace mechanism:** another way to introduce differential privacy is to make the data locally differentially private. In the above Algorithm 2, we added a single noise parameter $\\xi_{\\epsilon}$ to the non-private estimate $f(X)$. Rather than adding noise to the aggregated $f(X)$, we could also add noise to each sensitive bit individually, $X_i$. $$\\hat{\\theta} = \\mathcal{A}(X) = f(X + \\xi_{\\epsilon}) = \\frac{1}{N}\\sum_{i=1}^N (X_i + \\xi_{\\epsilon}^i ).$$ We will also go over this algorithm in more detail later in the lab.\n",
    "\n",
    "Both Algorithm 2 and Algorithm 3 result in estimators $\\hat{\\theta}$ that are $\\epsilon$-differentially private. The difference between Algorithm 2 and Algorithm 3 is that Algorithm 3 introduces more noise overall by introducing noise $\\xi_{\\epsilon}^i$ into each row. However, the local approach of Algorithm 3 ensures privacy even if we don't trust the person or program calculating $f(X)$ in Algorithm 2."
   ]
  },
  {
   "cell_type": "markdown",
   "metadata": {},
   "source": [
    "# Question 1.  Algorithm 1: Non-private \n",
    "\n",
    "We will now implement the three algorithms, and compare how well they accomplish the task of mean estimation. We'll start with Algorithm 1.\n",
    "\n",
    "For Algorithm 1, the obvious algorithm for mean estimation is to simply take the mean of the samples, $X_i$: \n",
    "\n",
    "$$\\hat{\\theta} = \\mathcal{A}(X) = f(X) = \\frac{1}{N}\\sum_{i=1}^N X_i$$\n",
    "\n",
    "However, this is clearly not differentially private: we can recover the drug usage of an individual if we estimate the mean before and after removing the individual."
   ]
  },
  {
   "cell_type": "markdown",
   "metadata": {},
   "source": [
    "## 1.a. Implement Algorithm 1\n",
    "First, we need to implement the calculation of $\\hat{\\theta}$ using Algorithm 1."
   ]
  },
  {
   "cell_type": "code",
   "execution_count": null,
   "metadata": {},
   "outputs": [],
   "source": [
    "# TODO: estimate the mean of the data using the non-private Algorithm 1.\n",
    "def alg_1_estimate(input_X_df):\n",
    "    \"\"\"Estimates the mean of the data using the non-private Algorithm 1.\n",
    "    \n",
    "    Inputs: \n",
    "        input_X_df : dataframe where each row corresponds to an individual, \n",
    "            and a 1 in a column corresponding to a given drug means that\n",
    "            the individual used that drug. \n",
    "        \n",
    "    Outputs:\n",
    "        mean_estimate : d-dimensional numpy array containing mean of all of the rows in X_df.\n",
    "    \n",
    "    \"\"\"\n",
    "    mean_estimate = ... # mean\n",
    "    return mean_estimate"
   ]
  },
  {
   "cell_type": "code",
   "execution_count": null,
   "metadata": {},
   "outputs": [],
   "source": [
    "# Validation tests (do not modify)\n",
    "test_input = simulate_private_data(nedredv_df, N=100, random_seed = 0)\n",
    "test_output = alg_1_estimate(test_input)\n",
    "true_output= np.array([0.54, 0.26, 0.1 , 0.17, 0.09, 0.04, 0.09, 0.  , 0.  , 0.04, 0.09,\n",
    "                       0.05, 0.  , 0.  , 0.  , 0.14, 0.04, 0.11, 0.  , 0.  , 0.  , 0.05,\n",
    "                       0.04, 0.  , 0.05, 0.04, 0.04])\n",
    "assert np.max(abs(test_output - true_output)) < 0.01\n",
    "print(\"Test passed!\")"
   ]
  },
  {
   "cell_type": "code",
   "execution_count": null,
   "metadata": {},
   "outputs": [],
   "source": [
    "# Print the estimates according to Algoritm 1\n",
    "nedredv_df['Algo_1_estimates'] = alg_1_estimate(X_df)\n",
    "nedredv_df"
   ]
  },
  {
   "cell_type": "markdown",
   "metadata": {},
   "source": [
    "## 1.b. Compute the max error of the mean estimate \n",
    "To judge how good our mean estimate was, we will use the max error, or the [infinity-norm](https://en.wikipedia.org/wiki/Norm_(mathematics)#Maximum_norm_(special_case_of:_infinity_norm,_uniform_norm,_or_supremum_norm)): \n",
    "$$||\\hat{\\theta} - \\theta||_\\infty = \\max_i{|\\hat{\\theta}_i - \\theta_i}|$$\n",
    "\n",
    "This just finds the max difference between any two coordinates of the true mean $\\theta$ and the estimated mean $\\hat{\\theta}$.\n",
    "\n",
    "Now, we will implement the max error function, and calculate the max error of Algorithm 1."
   ]
  },
  {
   "cell_type": "code",
   "execution_count": null,
   "metadata": {},
   "outputs": [],
   "source": [
    "# TODO: compute the max error between the estimated mean and the true mean.\n",
    "def max_error(estimated_mean, true_mean):\n",
    "    \"\"\"Computes the maximum error between the estimated mean and the true mean.\n",
    "    \n",
    "    Inputs:\n",
    "        estimated_mean: numpy array of length d containing the estimated mean.\n",
    "        true_mean: numpy array of length d containing the true mean.\n",
    "    \n",
    "    Outpus:\n",
    "        max_error: the/'' max error between the estimated_mean and true_mean. \n",
    "            This should be the max of the absolute value of all of the coordinates\n",
    "            of estimated_mean - true_mean.\n",
    "    \"\"\"\n",
    "    max_err = ... # TODO: fill in\n",
    "    return max_err"
   ]
  },
  {
   "cell_type": "code",
   "execution_count": null,
   "metadata": {},
   "outputs": [],
   "source": [
    "# Validation tests: Do not modify\n",
    "test_input=[np.array([0.34, 0.66, 0.41]),np.array([0.36, 0.58, 0.45])]\n",
    "assert np.abs(max_error(*test_input)-0.08)<0.0001\n",
    "print(\"Test passed!\")"
   ]
  },
  {
   "cell_type": "code",
   "execution_count": null,
   "metadata": {},
   "outputs": [],
   "source": [
    "print(\"Max error of Algorithm 1: {:.6f}\".format(max_error(alg_1_estimate(X_df), TRUE_MEAN)))"
   ]
  },
  {
   "cell_type": "markdown",
   "metadata": {},
   "source": [
    "# Question 2. Algorithm 2: Laplace mechanism \n",
    "To introduce differential privacy, we can apply the Laplace mechanism that we will go over in Discussion 13. Given the non-private estimator $f(X)$, we can add noise $\\xi_{\\epsilon}$:\n",
    "$$\\hat{\\theta} = \\mathcal{A}(X) = f(X) + \\xi_{\\epsilon} = \\left(\\frac{1}{N}\\sum_{i=1}^N X_i\\right) + \\xi_{\\epsilon}$$\n",
    "\n",
    "\n",
    "$\\xi_{\\epsilon} \\in \\mathbb{R}^d$ has independent coordinates, each distributed according to the zero-mean Laplace distribution with scale parameter $\\frac{\\Delta_f}{\\epsilon}$, denoted $\\text{Lap}(0,\\frac{\\Delta_f}{\\epsilon})$. \n",
    "\n",
    "$\\Delta_f$ is the sensitivity of the function $f$, defined as \n",
    "$$\\Delta_f = \\max_{\\text{neighboring } X,X'} ||f(X) - f(X')||_1,$$\n",
    "where $||.||_1$ is the [1-norm](https://en.wikipedia.org/wiki/Norm_(mathematics)#Taxicab_norm_or_Manhattan_norm). We need to use the 1-norm here because $f(X) \\in \\mathbb{R}^d$.\n",
    "\n",
    "Solving for this,\n",
    "\n",
    "$$\\begin{align*}\n",
    "\\Delta_f &= \\max_{\\text{neighboring } X,X'} ||f(X) - f(X')||_1 \\\\\n",
    "&= \\max_{\\text{neighboring } X,X'} \\bigg|\\bigg|\\frac{1}{N}\\sum_{i=1}^N X_i - \\frac{1}{N}\\sum_{i=1}^N X_i'\\bigg|\\bigg|_1 \\\\\n",
    "&= \\frac{d}{N}\n",
    "\\end{align*}\n",
    "$$\n",
    "\n",
    "In Discussion 13, we showed that the above algorithm $\\mathcal{A}(X)$ is $\\epsilon$-differentially private. "
   ]
  },
  {
   "cell_type": "markdown",
   "metadata": {},
   "source": [
    "## Implement Algorithm 2 \n",
    "\n",
    "Calculate $\\hat{\\theta}$ using Algorithm 2 above. \n",
    "\n",
    "Plugging in the calculation for $\\Delta_f$ above, we have $\\xi_{\\epsilon} \\in \\mathbb{R}^d$ has independent coordinates, each distributed according to the zero-mean Laplace distribution with scale parameter $\\frac{d}{N\\epsilon}$, denoted $\\text{Lap}(0,\\frac{d}{N\\epsilon})$."
   ]
  },
  {
   "cell_type": "code",
   "execution_count": null,
   "metadata": {},
   "outputs": [],
   "source": [
    "# TODO: estimate the mean of the data using Algorithm 2.\n",
    "def alg_2_estimate(input_X_df, epsilon=0.5, random_seed = None):\n",
    "    \"\"\"Estimates the mean of the data using Algorithm 2.\n",
    "    \n",
    "    Inputs: \n",
    "        input_X_df: dataframe where each row corresponds to an individual, \n",
    "            and a 1 in a column corresponding to a given drug means that\n",
    "            the individual used that drug. \n",
    "        epsilon: differential privacy parameter.\n",
    "        random_seed: int, random seed for experimental reproducibility\n",
    "        \n",
    "    Outputs:\n",
    "        mean_estimate: d-dimensional numpy array containing the mean estimate.\n",
    "    \n",
    "    \"\"\"\n",
    "    random_state = np.random.RandomState(seed=random_seed)\n",
    "    d = len(input_X_df.columns)\n",
    "    N = len(input_X_df)\n",
    "    laplace_scale = ... # TODO\n",
    "    \n",
    "    xi = random_state.laplace(0, laplace_scale, size=d)\n",
    "    mean_estimate = ... # TODO\n",
    "    return mean_estimate"
   ]
  },
  {
   "cell_type": "code",
   "execution_count": null,
   "metadata": {},
   "outputs": [],
   "source": [
    "# Validation tests (do not modify)\n",
    "test_input = simulate_private_data(nedredv_df, N=1000, random_seed = 1)\n",
    "test_output = alg_2_estimate(test_input, random_seed = 6)\n",
    "true_output= np.array([ 0.61118555,  0.30388517,  0.16553917,  0.08185385,  0.01907432,\n",
    "                        0.04238588,  0.07632029, -0.00456863, -0.02156009,  0.04617881,\n",
    "                        0.08586842,  0.08546348,  0.00198393,  0.01626853,  0.02354852,\n",
    "                        0.38347409,  0.08912664,  0.1377036 ,  0.07541032,  0.06230894,\n",
    "                       -0.11471126,  0.08304802,  0.08106895,  0.04457083,  0.07825384,\n",
    "                        0.0356127 , -0.04093591])\n",
    "assert np.max(abs(test_output - true_output)) < 0.01\n",
    "print(\"Test passed!\")"
   ]
  },
  {
   "cell_type": "code",
   "execution_count": null,
   "metadata": {},
   "outputs": [],
   "source": [
    "# Print the estimates according to Algoritm 2\n",
    "alg_2_estimates = alg_2_estimate(X_df, random_seed = 17)\n",
    "nedredv_df['Algo_2_estimates'] = alg_2_estimates\n",
    "nedredv_df"
   ]
  },
  {
   "cell_type": "code",
   "execution_count": null,
   "metadata": {},
   "outputs": [],
   "source": [
    "# Print the max error of Algorithm 2\n",
    "print(\"Max error of Algorithm 2: {:.6f}\".format(max_error(alg_2_estimates, TRUE_MEAN)))"
   ]
  },
  {
   "cell_type": "markdown",
   "metadata": {},
   "source": [
    "# Question 3. Algorithm 3: Locally differentially private Laplace mechanism\n",
    "Finally, another way to introduce differential privacy is to make the data locally differentially private. In the above Algorithm 2, we added a single noise parameter $\\xi_{\\epsilon}$ to the non-private estimate $f(X)$. As we will discuss in lecture, rather\n",
    "than adding noise to the aggregated $f(X)$, we could also add noise to each sensitive bit individually, $X_i$. \n",
    "\n",
    "$$\\hat{\\theta} = \\mathcal{A}(X) = f(X + \\xi_{\\epsilon}) = \\frac{1}{N}\\sum_{i=1}^N (X_i + \\xi_{\\epsilon}^i )$$\n",
    "\n",
    "Here, $\\xi_{\\epsilon} \\in \\mathbb{R}^{N \\times d}$ is making each row in the data differentially private before it even reaches the function $f(X)$. For each individual row $X_i$, $\\xi_{\\epsilon}^i \\in \\mathbb{R}^d$ has independent coordinates, each distributed according to the zero-mean Laplace distribution with parameter $\\frac{\\Delta_{X_i}}{\\epsilon}$, denoted $\\text{Lap}(0,\\frac{\\Delta_{X_i}}{\\epsilon})$. \n",
    "\n",
    "$\\Delta_{X_i}$ is the sensitivity of changing a single row $X_i$:\n",
    "$$\\Delta_{X_i} = \\max_{X_i \\neq X_i'} || X_i - X_i')||_1 = d$$\n",
    "\n",
    "It can be similarly shown that adding noise $\\xi_{\\epsilon}^i$ to each row $X_i$ makes each row itself differentially private, and by the Composition Guarantees for Differential Privacy, this locally differentially private algorithm $\\mathcal{A}(X)$ is also $\\epsilon$-differentially private. \n",
    "\n",
    "The difference between Algorithm 2 and Algorithm 3 is that Algorithm 3 introduces more noise overall by introducing noise $\\xi_{\\epsilon}^i$ into each row. However, the local approach of Algorithm 3 ensures privacy even if we don't trust the person or program calculating $f(X)$ in Algorithm 2.\n"
   ]
  },
  {
   "cell_type": "markdown",
   "metadata": {},
   "source": [
    "## 3.a. Implement Algorithm 3\n",
    "\n",
    "Calculate $\\hat{\\theta}$ using Algorithm 3 above. \n",
    "\n",
    "Plugging in the calculation for $\\Delta_{X_i}$ above, we have $\\xi_{\\epsilon}^i \\in \\mathbb{R}^d$ has independent coordinates, each distributed according to the zero-mean Laplace distribution with parameter $\\frac{d}{\\epsilon}$, denoted $\\text{Lap}(0,\\frac{d}{\\epsilon})$."
   ]
  },
  {
   "cell_type": "code",
   "execution_count": null,
   "metadata": {},
   "outputs": [],
   "source": [
    "# TODO: estimate the mean of the data using Algorithm 3.\n",
    "def alg_3_estimate(input_X_df, epsilon=0.5, random_seed = None):\n",
    "    \"\"\"Estimates the mean of the data using Algorithm 3.\n",
    "    \n",
    "    Inputs: \n",
    "        input_X_df: dataframe where each row corresponds to an individual, \n",
    "            and a 1 in a column corresponding to a given drug means that\n",
    "            the individual used that drug. \n",
    "        epsilon: differential privacy parameter.\n",
    "        random_seed: int, random seed for experimental reproducibility\n",
    "        \n",
    "    Outputs:\n",
    "        mean_estimate: d-dimensional numpy array containing the mean estimate.   \n",
    "    \"\"\"\n",
    "    random_state = np.random.RandomState(random_seed)\n",
    "    d = len(input_X_df.columns)\n",
    "    N = len(input_X_df)\n",
    "    laplace_scale = ... # TODO\n",
    "    \n",
    "    # Adds the xi_i noise to each row X_i. \n",
    "    X = input_X_df.to_numpy(dtype=float)\n",
    "    for i in range(len(X)):\n",
    "        xi_i = random_state.laplace(0, laplace_scale, size=d)\n",
    "        X[i] = ... # TODO\n",
    "    \n",
    "    mean_estimate = np.mean(X, axis=0)\n",
    "    return mean_estimate"
   ]
  },
  {
   "cell_type": "code",
   "execution_count": null,
   "metadata": {},
   "outputs": [],
   "source": [
    "# Validation tests (do not modify)\n",
    "test_input = simulate_private_data(nedredv_df, N=10000, random_seed = 8)\n",
    "test_output = alg_3_estimate(test_input, random_seed = 2)\n",
    "true_output= np.array([-0.40967514,  0.07351822, -0.4317238 ,  1.00062335, -0.5200155 ,\n",
    "                       -0.89679615, -0.65737125, -0.29722826,  0.84077436,  0.40867117,\n",
    "                       -1.00796038, -0.43696672,  0.01821487, -1.80613563, -0.90836173,\n",
    "                       -0.17835337,  0.72904829, -0.72107227,  0.15482221, -0.55084658,\n",
    "                       -0.31396992, -0.3488769 ,  0.77788347,  0.45583122,  0.05131975,\n",
    "                        0.77705583,  0.56286043])\n",
    "assert np.max(abs(test_output - true_output)) < 0.01\n",
    "print(\"Test passed!\")"
   ]
  },
  {
   "cell_type": "code",
   "execution_count": null,
   "metadata": {},
   "outputs": [],
   "source": [
    "# Print the estimates according to Algoritm 3\n",
    "alg_3_estimates = alg_3_estimate(X_df, random_seed = 11)\n",
    "nedredv_df['Algo_3_estimates'] = alg_3_estimates\n",
    "nedredv_df"
   ]
  },
  {
   "cell_type": "code",
   "execution_count": null,
   "metadata": {},
   "outputs": [],
   "source": [
    "# Print the max error of Algorithm 3\n",
    "print(\"Max error of Algorithm 3: {:.6f}\".format(max_error(alg_3_estimates, TRUE_MEAN)))"
   ]
  },
  {
   "cell_type": "markdown",
   "metadata": {},
   "source": [
    "### 3.b. Question: Rank all three algorithms in order of how close the mean estimate was to the true mean. For the algorithm that had the worst estimate, why do you think it had the worst estimate?"
   ]
  },
  {
   "cell_type": "markdown",
   "metadata": {},
   "source": [
    "`TODO: fill in`"
   ]
  },
  {
   "cell_type": "markdown",
   "metadata": {},
   "source": [
    "### 3.c. Question: Both Algorithm 2 and Algorithm 3 are $\\epsilon$-differentially private, but have different performances for mean estimation. Can you come up with a hypothetical practical scenario where you might want to use Algorithm 3 instead of Algorithm 2?"
   ]
  },
  {
   "cell_type": "markdown",
   "metadata": {},
   "source": [
    "`TODO: fill in`"
   ]
  },
  {
   "cell_type": "markdown",
   "metadata": {},
   "source": [
    "# Question 4. Break the privacy of Algorithm 1\n",
    "\n",
    "We said that Algorithm 1 is not private. In this question you will try to 'break' it in order to obtain private patient information. Denote by $S$ the original dataset, and by $S'$ a 'neighboring' dataset. The dataset $S$ and $S'$ differ only for one patients, whose data has been modified. Here by modifications we mean flipping some of the respective 0/1 from the row corresponding to that patient.\n",
    "\n",
    "You are given only $N=30000$, $f(S)$ and $f(S')$ (you don't have access to either $S$ or $S$: Attempt to obtain private information about the patient whose data has been modified.\n",
    "\n",
    "`Hint:` You should be able to infer that this patient was admitted to hospital having consumed alcohol, but not cocaine and amphetamines. Explain."
   ]
  },
  {
   "cell_type": "code",
   "execution_count": null,
   "metadata": {},
   "outputs": [],
   "source": [
    "N = 30000\n",
    "\n",
    "f_S = np.array([0.52756667, 0.32886667, 0.10943333, 0.22043333, 0.10026667,\n",
    "                0.02733333, 0.07786667, 0.00756667, 0.0013    , 0.02723333,\n",
    "                0.0933    , 0.05243333, 0.00166667, 0.00933333, 0.0077    ,\n",
    "                0.17586667, 0.03213333, 0.14803333, 0.00066667, 0.00913333,\n",
    "                0.00693333, 0.05323333, 0.0286    , 0.0105    , 0.05163333,\n",
    "                0.02736667, 0.03193333])\n",
    "\n",
    "f_S_prime = np.array([0.52753333, 0.3289    , 0.10943333, 0.22043333, 0.10026667,\n",
    "                      0.02736667, 0.07786667, 0.00756667, 0.0013    , 0.02723333,\n",
    "                      0.0933    , 0.05243333, 0.00166667, 0.00933333, 0.0077    ,\n",
    "                      0.17586667, 0.03213333, 0.14803333, 0.00066667, 0.00913333,\n",
    "                      0.00693333, 0.05323333, 0.0286    , 0.0105    , 0.05163333,\n",
    "                      0.02736667, 0.03193333])"
   ]
  },
  {
   "cell_type": "code",
   "execution_count": null,
   "metadata": {},
   "outputs": [],
   "source": [
    "# TODO: Fill in with your answer"
   ]
  },
  {
   "cell_type": "code",
   "execution_count": null,
   "metadata": {},
   "outputs": [],
   "source": [
    "%matplotlib inline\n",
    "import matplotlib.image as mpimg\n",
    "img = mpimg.imread('cute_alpaca.jpg')\n",
    "imgplot = plt.imshow(img)\n",
    "imgplot.axes.get_xaxis().set_visible(False)\n",
    "imgplot.axes.get_yaxis().set_visible(False)\n",
    "print(\"Yay, you've made it to the end of ALL THE LABS!\")\n",
    "plt.show()"
   ]
  },
  {
   "cell_type": "code",
   "execution_count": null,
   "metadata": {},
   "outputs": [],
   "source": []
  }
 ],
 "metadata": {
  "kernelspec": {
   "display_name": "Python 3",
   "language": "python",
   "name": "python3"
  },
  "language_info": {
   "codemirror_mode": {
    "name": "ipython",
    "version": 3
   },
   "file_extension": ".py",
   "mimetype": "text/x-python",
   "name": "python",
   "nbconvert_exporter": "python",
   "pygments_lexer": "ipython3",
   "version": "3.7.6"
  }
 },
 "nbformat": 4,
 "nbformat_minor": 2
}
