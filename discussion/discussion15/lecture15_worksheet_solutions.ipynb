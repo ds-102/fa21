{
 "cells": [
  {
   "cell_type": "markdown",
   "metadata": {},
   "source": [
    "# Lecture worksheet 15 solutions"
   ]
  },
  {
   "cell_type": "markdown",
   "metadata": {},
   "source": [
    "### From this worksheet onwards, only problem 1 is graded for credit, all other problems are optional (but still recommended)"
   ]
  },
  {
   "cell_type": "markdown",
   "metadata": {},
   "source": [
    "## Problem 1: \n",
    "\n",
    "1a) We can always expand the ATE as follows:\n",
    "\n",
    "$$\n",
    "\\begin{align*}\n",
    "\\tau & = \\mathbb{E}[Y(1)-Y(0)|Z=1]\\mathbb{P}(Z=1) + \\mathbb{E}[Y(1)-Y(0)|Z=0]\\mathbb{P}(Z=0) \\\\\n",
    "& = \\mathbb{E}[Y(1)|Z=1]\\mathbb{P}(Z=1) - \\mathbb{E}[Y(0)|Z=1]\\mathbb{P}(Z=1) \\\\\n",
    "& \\quad + \\mathbb{E}[Y(1)|Z=0]\\mathbb{P}(Z=0) - \\mathbb{E}[Y(0)|Z=0]\\mathbb{P}(Z=0)\n",
    "\\end{align*}\n",
    "$$\n",
    "\n",
    "For observational studies, we are unable to identify the ATE without further assumptions because we do not observe some of the quantities in the last line of the equation above. Which are they?\n",
    "\n",
    "**Solution:** $\\mathbb{E}[Y(1)|Z=0]$ and $\\mathbb{E}[Y(1)|Z=0]$."
   ]
  },
  {
   "cell_type": "markdown",
   "metadata": {},
   "source": [
    "1b) Write out the unconfoundedness assumption.\n",
    "\n",
    "**Solution:** $\\{Y(1),Y(0)\\} \\perp\\!\\!\\perp Z ~|~ X$"
   ]
  },
  {
   "cell_type": "markdown",
   "metadata": {},
   "source": [
    "1c) How do we obtain the Conditional Average Treatment Effect (CATE) function from the joint regression function $\\mu(x,z) = \\mathbb{E}[Y|X=x,Z=z]$?\n",
    "\n",
    "**Solution:** $\\tau(x) = \\mu(x,1) - \\mu(x,0)$"
   ]
  },
  {
   "cell_type": "markdown",
   "metadata": {},
   "source": [
    "1d) Write the formula for the regression estimator of the ATE.\n",
    "\n",
    "**Solution:** $\\hat{\\tau}_{reg} = \\frac{1}{n}\\sum_{i=1}^n \\hat{\\tau}(X_i)$."
   ]
  },
  {
   "cell_type": "markdown",
   "metadata": {},
   "source": [
    "1e) Write the formula for the IPW estimator of the ATE.\n",
    "\n",
    "**Solution**:\n",
    "$$\\hat{\\tau}_{IPW} = \\frac{1}{n}\\sum_{i=1}^n \\frac{Z_iY_i}{\\hat{e}(X_i)} - \\frac{1}{n}\\sum_{i=1}^n \\frac{(1-Z_i)Y_i}{1-\\hat{e}(X_i)}$$"
   ]
  },
  {
   "cell_type": "markdown",
   "metadata": {},
   "source": [
    "## Problem 2 (overlap):"
   ]
  },
  {
   "cell_type": "markdown",
   "metadata": {},
   "source": [
    "2a) Let $e(x)$ denote the propensity score. What is the meaning of $e(x) = 0$ ?"
   ]
  },
  {
   "cell_type": "markdown",
   "metadata": {},
   "source": [
    "**Solution**: It means that units with $X=x$ never get treated."
   ]
  },
  {
   "cell_type": "markdown",
   "metadata": {},
   "source": [
    "2b) Suppose $X$ is discrete. Is it possible to identify the ATE when $e(x) = 0$ for some $x$?"
   ]
  },
  {
   "cell_type": "markdown",
   "metadata": {},
   "source": [
    "**Solution**: No, it is not possible, because then we do not get any information about $\\mathbb{E}[Y(1)|X=x]$"
   ]
  },
  {
   "cell_type": "markdown",
   "metadata": {},
   "source": [
    "2c) Even if $e(x) > 0$ for all $x$. What problems can arise if $e(x)$ is close to 0 (or close to 1) for some values of $x$?"
   ]
  },
  {
   "cell_type": "markdown",
   "metadata": {},
   "source": [
    "**Solution**: Then $1/e(x)$ becomes large, and small errors in $\\hat{e}(x)$ lead to large fluctations in $1/\\hat{e}(x)$. This makes the IPW estimator unstable."
   ]
  },
  {
   "cell_type": "markdown",
   "metadata": {},
   "source": [
    "## Problem 3 (challenge, IPW theorem):"
   ]
  },
  {
   "cell_type": "markdown",
   "metadata": {},
   "source": [
    "Prove that\n",
    "$$\\mathbb{E}\\left[\\frac{Y_{obs}Z}{e(X)}\\right] = \\mathbb{E}[Y(1)]$$"
   ]
  },
  {
   "cell_type": "markdown",
   "metadata": {},
   "source": [
    "*Hint: Use the tower property*\n",
    "\n",
    "$$\n",
    "\\begin{align*}\n",
    "\\mathbb{E}\\left[\\frac{Y_{obs}Z}{e(X)}\\right] & = \\mathbb{E}\\left[\\frac{Y(1)Z}{e(X)}\\right] \\\\\n",
    "& = \\mathbb{E}\\left[\\mathbb{E}\\left\\{\\frac{Y(1)Z}{e(X)}~\\big|~X\\right\\}\\right] \\\\\n",
    "& = \\mathbb{E}\\left[\\mathbb{E}\\left\\{Y(1)Z~|~X\\right\\}\\frac{1}{e(X)}\\right] \\\\\n",
    "& = \\mathbb{E}\\left[\\mathbb{E}\\left\\{Y(1)~|~X\\right\\}\\mathbb{E}\\left\\{Z~|~X\\right\\}\\frac{1}{e(X)}\\right] \\\\\n",
    "& = \\mathbb{E}\\left[\\mathbb{E}\\left\\{Y(1)~|~X\\right\\}e(X)\\frac{1}{e(X)}\\right]\n",
    "\\end{align*}\n",
    "$$"
   ]
  }
 ],
 "metadata": {
  "kernelspec": {
   "display_name": "Python 3",
   "language": "python",
   "name": "python3"
  },
  "language_info": {
   "codemirror_mode": {
    "name": "ipython",
    "version": 3
   },
   "file_extension": ".py",
   "mimetype": "text/x-python",
   "name": "python",
   "nbconvert_exporter": "python",
   "pygments_lexer": "ipython3",
   "version": "3.7.7"
  }
 },
 "nbformat": 4,
 "nbformat_minor": 4
}
