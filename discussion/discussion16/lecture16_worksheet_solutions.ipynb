{
 "cells": [
  {
   "cell_type": "markdown",
   "metadata": {},
   "source": [
    "# Lecture worksheet 16 solutions"
   ]
  },
  {
   "cell_type": "markdown",
   "metadata": {},
   "source": [
    "### Reminder: Only problem 1 is graded for credit, all other problems are optional (but still recommended)"
   ]
  },
  {
   "cell_type": "markdown",
   "metadata": {},
   "source": [
    "## Problem 1: "
   ]
  },
  {
   "cell_type": "markdown",
   "metadata": {},
   "source": [
    "In this problem, we make use of the notation from lecture. We work with the linear structural model\n",
    "$$\n",
    "Y = \\alpha + \\tau Z + \\beta^TX + \\epsilon,\n",
    "$$\n",
    "$$\n",
    "Z = \\alpha' + \\gamma W + (\\beta')^TX + \\delta\n",
    "$$"
   ]
  },
  {
   "cell_type": "markdown",
   "metadata": {},
   "source": [
    "1a) If we regress $Y$ only on $Z$, what is value of the regression coefficient? What is the omitted variable bias?"
   ]
  },
  {
   "cell_type": "markdown",
   "metadata": {},
   "source": [
    "**Solution:**\n",
    "$$\\tau + \\beta^T\\frac{\\text{Cov}(X,Z)}{\\text{Var}(Z)}$$\n",
    "\n",
    "The 2nd term is the OVB. It is the effect of $X$ on $Y$ times the regression coefficient of $X$ on $Z$."
   ]
  },
  {
   "cell_type": "markdown",
   "metadata": {},
   "source": [
    "1b) What are the assumptions on the instrumental variable $W$?"
   ]
  },
  {
   "cell_type": "markdown",
   "metadata": {},
   "source": [
    "**Solution:**\n",
    "1. $\\gamma \\neq 0$ (relevance)\n",
    "2. $W$ independent of $X$, $\\delta$ and $\\epsilon$ (exogeneity)"
   ]
  },
  {
   "cell_type": "markdown",
   "metadata": {},
   "source": [
    "1c) (True/False) The linear structural model assumes a constant treatment effect."
   ]
  },
  {
   "cell_type": "markdown",
   "metadata": {},
   "source": [
    "**Solution:** True"
   ]
  },
  {
   "cell_type": "markdown",
   "metadata": {},
   "source": [
    "1d) Write out the formulas for the instrumental variable estimand for the general case as well as the special case of binary instrument $W$."
   ]
  },
  {
   "cell_type": "markdown",
   "metadata": {},
   "source": [
    "**Solution:** True"
   ]
  },
  {
   "cell_type": "markdown",
   "metadata": {},
   "source": [
    "1e) Fill out the blanks in the following description of two-stage least squares:\n",
    "- Step 1: Regress $Z$ on $W$ to get _________.\n",
    "- Step 2: Regress $Y$ on $\\tilde{Z}$ to get _________."
   ]
  },
  {
   "cell_type": "markdown",
   "metadata": {},
   "source": [
    "**Solution:**\n",
    "- Step 1: Regress $Z$ on $W$ to get $\\tilde{Z} = W\\hat{\\gamma} = W(W^TW)^{-1}W^TZ$.\n",
    "- Step 2: Regress $Y$ on $\\tilde{Z}$ to get $\\hat{\\tau}_{2SLS} = (\\tilde{Z}^T\\tilde{Z})^{-1}\\tilde{Z}^TY$."
   ]
  },
  {
   "cell_type": "markdown",
   "metadata": {},
   "source": [
    "## Problem 2 (trouble with IVs): "
   ]
  },
  {
   "cell_type": "markdown",
   "metadata": {},
   "source": [
    "2a) The weak instrument problem happens when $\\gamma$ is very small. Try to guess what the problem may be. *Hint: This is similar to the case of propensity scores being too close to 0 or to 1.*"
   ]
  },
  {
   "cell_type": "markdown",
   "metadata": {},
   "source": [
    "**Solution**: When $\\gamma$ is small, then $1/\\hat{\\gamma} = 1/(W^TW)^{-1}W^TZ$ is likely to be unstable."
   ]
  },
  {
   "cell_type": "markdown",
   "metadata": {},
   "source": [
    "2b) What goes wrong with the IV estimator if we change the first equation in the linear structural to\n",
    "$$\n",
    "Y = \\alpha + \\tau Z + \\beta^TX + \\kappa W + \\epsilon\n",
    "$$\n",
    "\n",
    "Draw a causal graph that represents this new model."
   ]
  },
  {
   "cell_type": "markdown",
   "metadata": {},
   "source": [
    "**Solution**: Then $W$ affects $Y$ directly, so that\n",
    "\n",
    "$$\n",
    "\\begin{align}\n",
    "    \\textrm{Cov}(Y,W) & = \\tau \\textrm{Cov}(Z,W) + \\kappa \\textrm{Cov}(W,W) \\\\\n",
    "    & = \\tau \\textrm{Cov}(\\gamma W + \\eta, W) \\\\\n",
    "    & = (\\tau\\gamma +\\kappa)\\textrm{Var}(W).\n",
    "\\end{align}\n",
    "$$\n",
    "\n",
    "We are hence no longer able to use the IV estimator.\n",
    "\n",
    "<img src=\"causal_graph3.png\" align=\"center\"/>"
   ]
  },
  {
   "cell_type": "markdown",
   "metadata": {},
   "source": [
    "2c) Recall Example 4 from the lecture: *$Z$ is years of schooling, $Y$ is salary, $X$ is socioeconomic background. Card (1993) used geographical variation in college proximity as the instrumental variable.* Discuss the appropriateness of college proximity as an instrumental variable."
   ]
  },
  {
   "cell_type": "markdown",
   "metadata": {},
   "source": [
    "**Solution**: There are some problems:\n",
    "1. The instrument is weak, being close to a college only slightly increases the probability of someone going to college.\n",
    "2. Living close to a college may not be independent of socioeconomic status.\n",
    "3. Living close to a college may be associated with salary (via e.g. cost of living)"
   ]
  },
  {
   "cell_type": "markdown",
   "metadata": {},
   "source": [
    "## Problem 3: "
   ]
  },
  {
   "cell_type": "markdown",
   "metadata": {},
   "source": [
    "Show that when $W$ is binary,\n",
    "$$\n",
    "\\frac{\\frac{\\textrm{Cov}(Y,W)}{\\textrm{Var}(W)}}{\\frac{\\textrm{Cov}(Z,W)}{\\textrm{Var}(W)}} = \\frac{\\mathbb{E}[Y|W=1] - \\mathbb{E}[Y|W=0]}{\\mathbb{E}[Z|W=1] - \\mathbb{E}[Z|W=0]}.\n",
    "$$"
   ]
  },
  {
   "cell_type": "markdown",
   "metadata": {},
   "source": [
    "**Solution**:\n",
    "\n",
    "Denote $p = \\mathbb{P}(W=1)$. Then\n",
    "$$\n",
    "\\begin{align}\n",
    "\\textrm{Cov}(Y,W) & = \\mathbb{E}[Y(W-\\mathbb{E}[W])]\\\\\n",
    "& = \\mathbb{E}[Y(W-\\mathbb{E}[W])|W=1]\\mathbb{P}(W=1) + \\mathbb{E}[Y(W-\\mathbb{E}[W])|W=0]\\mathbb{P}(W=0) \\\\\n",
    "& = \\mathbb{E}[Y|W=1](1-p)p + \\mathbb{E}[Y|W=0](0-p)(1-p) \\\\\n",
    "& = (\\mathbb{E}[Y|W=1]-\\mathbb{E}[Y|W=0])p(1-p)\n",
    "\\end{align}\n",
    "$$\n",
    "\n",
    "A similar calculation holds for the denominator."
   ]
  }
 ],
 "metadata": {
  "kernelspec": {
   "display_name": "Python 3",
   "language": "python",
   "name": "python3"
  },
  "language_info": {
   "codemirror_mode": {
    "name": "ipython",
    "version": 3
   },
   "file_extension": ".py",
   "mimetype": "text/x-python",
   "name": "python",
   "nbconvert_exporter": "python",
   "pygments_lexer": "ipython3",
   "version": "3.7.7"
  }
 },
 "nbformat": 4,
 "nbformat_minor": 4
}
