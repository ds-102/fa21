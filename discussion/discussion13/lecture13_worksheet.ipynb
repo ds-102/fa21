{
 "cells": [
  {
   "cell_type": "markdown",
   "metadata": {},
   "source": [
    "# Lecture worksheet 13"
   ]
  },
  {
   "cell_type": "markdown",
   "metadata": {},
   "source": [
    "## Problem 1: Spurious correlations vs mistaking correlation for causation\n",
    "\n",
    "What is a spurious correlation, and how is it different from mistaking correlation for causation?"
   ]
  },
  {
   "cell_type": "markdown",
   "metadata": {},
   "source": [
    "## Problem 2: Vaccine efficacy\n",
    "\n",
    "It is said that the Pfizer COVID-19 vaccine is 95% effective, while the Johnson & Johnson vaccine is 72% effective. Look up what vaccine efficacy means. What association measure does it correspond to?"
   ]
  },
  {
   "cell_type": "markdown",
   "metadata": {},
   "source": [
    "## Problem 3: Coefficient of determination\n",
    "\n",
    "Given a simple linear regression $Y = \\alpha + \\beta X + \\epsilon$, $\\mathbb{E}[\\epsilon] = \\textrm{Cov}(\\epsilon,X) = 0$, the coefficient of determination $r^2$ is defined as $r^2 = 1 - \\frac{\\textrm{Var}(\\epsilon)}{\\textrm{Var}(Y)}$. In other words, it is the fraction of variance of $Y$ explained by $X$. This seems to offer yet another measure of the association between two variables.\n",
    "\n",
    "It is not really a new measure though. Show that $r = \\rho_{XY}$, where $\\rho_{XY}$ is the correlation coefficient."
   ]
  },
  {
   "cell_type": "markdown",
   "metadata": {},
   "source": [
    "## Problem 4: Simpson's paradox and the ecological fallacy\n",
    "\n",
    "4a) Comment on the similarities and differences between Simpson's paradox and the ecological fallacy."
   ]
  },
  {
   "cell_type": "markdown",
   "metadata": {},
   "source": [
    "4b) Find an interesting example of either one of these."
   ]
  }
 ],
 "metadata": {
  "kernelspec": {
   "display_name": "Python 3",
   "language": "python",
   "name": "python3"
  },
  "language_info": {
   "codemirror_mode": {
    "name": "ipython",
    "version": 3
   },
   "file_extension": ".py",
   "mimetype": "text/x-python",
   "name": "python",
   "nbconvert_exporter": "python",
   "pygments_lexer": "ipython3",
   "version": "3.7.7"
  }
 },
 "nbformat": 4,
 "nbformat_minor": 4
}
