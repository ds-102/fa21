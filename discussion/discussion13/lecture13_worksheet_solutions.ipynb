{
 "cells": [
  {
   "cell_type": "markdown",
   "metadata": {},
   "source": [
    "# Lecture worksheet 13 solutions"
   ]
  },
  {
   "cell_type": "markdown",
   "metadata": {},
   "source": [
    "## Problem 1: Spurious correlations vs mistaking correlation for causation\n",
    "\n",
    "What is a spurious correlation, and how is it different from mistaking correlation for causation?"
   ]
  },
  {
   "cell_type": "markdown",
   "metadata": {},
   "source": [
    "**Solution**: A spurious correlation is one that happens by pure chance, such as most of the examples from http://tylervigen.com/spurious-correlations. On the other hand, some correlations are indeed real: size of your palms is negatively correlated with how long you live, but this is not causal. Instead, there's a confounder: women tend to have smaller palms, and also to live longer."
   ]
  },
  {
   "cell_type": "markdown",
   "metadata": {},
   "source": [
    "## Problem 2: Vaccine efficacy\n",
    "\n",
    "It is said that the Pfizer COVID-19 vaccine is 95% effective, while the Johnson & Johnson vaccine is 72% effective. Look up what vaccine efficacy means. What association measure does it correspond to?"
   ]
  },
  {
   "cell_type": "markdown",
   "metadata": {},
   "source": [
    "**Solution**: Looking at the CDC [website](https://www.cdc.gov/csels/dsepd/ss1978/lesson3/section6.html), vaccine efficacy is defined as the 1 - risk ratio:\n",
    "$$1 - \\frac{\\text{risk in vaccinated group}}{\\text{risk in unvaccinated group}}$$"
   ]
  },
  {
   "cell_type": "markdown",
   "metadata": {},
   "source": [
    "## Problem 3: Coefficient of determination\n",
    "\n",
    "Given a simple linear regression $Y = \\alpha + \\beta X + \\epsilon$, $\\mathbb{E}[\\epsilon] = \\textrm{Cov}(\\epsilon,X) = 0$, the coefficient of determination $r^2$ is defined as $r^2 = 1 - \\frac{\\textrm{Var}(\\epsilon)}{\\textrm{Var}(Y)}$. In other words, it is the fraction of variance of $Y$ explained by $X$. This seems to offer yet another measure of the association between two variables.\n",
    "\n",
    "It is not really a new measure though. Show that $r = \\rho_{XY}$, where $\\rho_{XY}$ is the correlation coefficient."
   ]
  },
  {
   "cell_type": "markdown",
   "metadata": {},
   "source": [
    "**Solution**: We have $$\\text{Var}(Y) = \\text{Var}(\\alpha + \\beta X + \\epsilon) = \\beta^2\\text{Var}(X) + \\text{Var}(\\epsilon).$$\n",
    "\n",
    "Hence,$$\n",
    "\\begin{align*}\n",
    "r^2 & = 1 - \\frac{\\textrm{Var}(\\epsilon)}{\\textrm{Var}(Y)} \\\\\n",
    "& = \\frac{\\textrm{Var}(Y) - \\textrm{Var}(\\epsilon)}{\\textrm{Var}(Y)} \\\\\n",
    "& = \\beta^2 \\frac{\\textrm{Var}(X)}{\\textrm{Var}(Y)} \\\\\n",
    "& = \\rho_{XY}^2\n",
    "\\end{align*}$$"
   ]
  },
  {
   "cell_type": "markdown",
   "metadata": {},
   "source": [
    "## Problem 4: Simpson's paradox and the ecological fallacy\n",
    "\n",
    "4a) Comment on the similarities and differences between Simpson's paradox and the ecological fallacy."
   ]
  },
  {
   "cell_type": "markdown",
   "metadata": {},
   "source": [
    "**Solution**: Simpson's paradox is when correlations that happen simultaneously **within** a few groups disappear or are reversed when the groups are combined. On the other hand, the ecological fallacy is when ecological correlations (correlations for the group averages) is used to infer correlations at the individual level.\n",
    "\n",
    "Both paradoxes are about how the direction of association can change if we stratify, or if we take averages."
   ]
  },
  {
   "cell_type": "markdown",
   "metadata": {},
   "source": [
    "4b) Find an interesting example of either one of these."
   ]
  },
  {
   "cell_type": "markdown",
   "metadata": {},
   "source": [
    "**Solution**: Émile Durkheim, one of the founding fathers of sociology, found that countries with more Protestants had higher suicide rates, and concluded from this that Protestantism was associated with suicide."
   ]
  }
 ],
 "metadata": {
  "kernelspec": {
   "display_name": "Python 3",
   "language": "python",
   "name": "python3"
  },
  "language_info": {
   "codemirror_mode": {
    "name": "ipython",
    "version": 3
   },
   "file_extension": ".py",
   "mimetype": "text/x-python",
   "name": "python",
   "nbconvert_exporter": "python",
   "pygments_lexer": "ipython3",
   "version": "3.7.7"
  }
 },
 "nbformat": 4,
 "nbformat_minor": 4
}
