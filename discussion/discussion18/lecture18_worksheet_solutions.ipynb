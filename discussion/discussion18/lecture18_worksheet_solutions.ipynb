{
 "cells": [
  {
   "cell_type": "markdown",
   "metadata": {},
   "source": [
    "# Lecture worksheet 18 solutions"
   ]
  },
  {
   "cell_type": "markdown",
   "metadata": {},
   "source": [
    "### Reminder: Only problem 1 is graded for credit, all other problems are optional (but still recommended)"
   ]
  },
  {
   "cell_type": "markdown",
   "metadata": {},
   "source": [
    "## Problem 1: "
   ]
  },
  {
   "cell_type": "markdown",
   "metadata": {},
   "source": [
    "1a) What is the environment of a bandit problem?"
   ]
  },
  {
   "cell_type": "markdown",
   "metadata": {},
   "source": [
    "**Solution:** It is the collection of reward distributions $P_a$ for each arm $1 \\leq a \\leq K$."
   ]
  },
  {
   "cell_type": "markdown",
   "metadata": {},
   "source": [
    "1b) As the learner interacts with environment over $n$ rounds, we get a sequence of data $A_1,X_1,A_2,X_2,\\ldots,A_n,X_n$. What do $A_t$ and $X_t$ denote?"
   ]
  },
  {
   "cell_type": "markdown",
   "metadata": {},
   "source": [
    "**Solution:** $A_t$ is the arm chosen in round $t$, $X_t$ is the reward observed in round $t$."
   ]
  },
  {
   "cell_type": "markdown",
   "metadata": {},
   "source": [
    "1c) What do we assume about the arm reward distribution $P_a$?"
   ]
  },
  {
   "cell_type": "markdown",
   "metadata": {},
   "source": [
    "**Solution:** We assume that it is 1-sub-Gaussian."
   ]
  },
  {
   "cell_type": "markdown",
   "metadata": {},
   "source": [
    "1d) Write out the formulas for the following symbols: $T_a(t), \\mu_a, \\hat{\\mu}_a(t), R_n$."
   ]
  },
  {
   "cell_type": "markdown",
   "metadata": {},
   "source": [
    "**Solution:**\n",
    "$$T_a(t) = \\sum_{s=1}^t 1(A_s = a)$$\n",
    "$$\\mu_a = \\mathbb{E}_{Z~P_a}[Z]$$\n",
    "$$\\hat{\\mu}_a(t) = \\frac{1}{T_a(t)} \\sum_{s=1}^t X_s 1(A_s = a)$$\n",
    "$$R_n = n\\mu^* - \\mathbb{E}[\\sum_{t=1}^nX_{A_t}]$$"
   ]
  },
  {
   "cell_type": "markdown",
   "metadata": {},
   "source": [
    "1e) Explain in words what the difference is between regret and pseudo-regret."
   ]
  },
  {
   "cell_type": "markdown",
   "metadata": {},
   "source": [
    "**Solution:** The pseudo regret is given by\n",
    "$$\\bar{R}_n = n\\mu^* - \\sum_{t=1}^N \\mu_{A_t}$$\n",
    "Hence, it conditions on the choices of the arms at each step $t$. It compares the cumulative expected reward from the optimal arm against that of a determintic sequence of arm choices. On the other hand, the regret of a policy also takes an expectation over the randomness in the arm choices at each step."
   ]
  },
  {
   "cell_type": "markdown",
   "metadata": {},
   "source": [
    "1f) Write pseudo-code for the Explore-then-Commit algorithm."
   ]
  },
  {
   "cell_type": "markdown",
   "metadata": {},
   "source": [
    "**Solution:**\n",
    "$$\n",
    "A_t = \\begin{cases}\n",
    "(t ~\\text{mod}~ K) + 1 & \\quad \\text{if}~ t \\leq mK \\\\\n",
    "\\arg\\max_a \\hat{\\mu}_a(mK) & \\quad \\text{if}~ t > mK.\n",
    "\\end{cases}\n",
    "$$"
   ]
  },
  {
   "cell_type": "markdown",
   "metadata": {},
   "source": [
    "## Problem 2 (confidence intervals from Hoeffding):\n",
    "\n",
    "a) Suppose that $Z$ is a $\\sigma$-sub-Gaussian random variable with mean $\\mu$. Prove that $\\mathbb{P}(Z \\geq \\mu + \\sigma\\sqrt{2\\log(1/\\delta)}) \\leq \\delta$."
   ]
  },
  {
   "cell_type": "markdown",
   "metadata": {},
   "source": [
    "**Solution:** By Hoeffding for sub-Gaussian RVs, we have\n",
    "$$\\mathbb{P}(Z - \\mu \\geq t) \\leq \\exp(-\\frac{t^2}{2\\sigma^2})$$\n",
    "We now set the right-hand-side to be equal to $\\delta$ and solve for $t$."
   ]
  },
  {
   "cell_type": "markdown",
   "metadata": {},
   "source": [
    "b) Using the above or otherwise, show that if $Z_1,\\ldots,Z_n$ are independent 1-sub-Gaussian random variables each with mean $\\mu$, then $S_n = \\frac{1}{n}\\sum_{i=1}^n Z_i$ satisfies\n",
    "$$\\mathbb{P}\\left(S_n \\geq \\mu + \\sqrt{\\frac{2\\log(1/\\delta)}{n}} \\right) \\leq \\delta$$"
   ]
  },
  {
   "cell_type": "markdown",
   "metadata": {},
   "source": [
    "**Solution:** By the two lemmas at the end of Section 9 in the [lecture notes](http://data102.datahub.berkeley.edu/hub/user-redirect/git-sync?repo=https://github.com/ds-102/sp21&subPath=lecture/lecture17/concentration.ipynb), $S_n$ is $\\sigma$-sub-Gaussian with $\\sigma^2 = \\frac{1}{n}$."
   ]
  },
  {
   "cell_type": "markdown",
   "metadata": {},
   "source": [
    "## Problem 3 (a deeper look at ETC):\n",
    "\n",
    "a) For a fixed time horizon $n$, suppose we run ETC with different values of $m$. Without coding anything, predict how the graph of regret $R_n$ against $m$ would look like."
   ]
  },
  {
   "cell_type": "markdown",
   "metadata": {},
   "source": [
    "**Solution:** It would be a $U$-shaped curve. $m$ conveys how much we explore. Exploring too little or too much is both bad."
   ]
  },
  {
   "cell_type": "markdown",
   "metadata": {},
   "source": [
    "b) Predict how the regret $R_n$ of ETC (with fixed $m$) would change if we decrease the suboptimality gap $\\Delta_a$ for each arm. Would the regret for the UCB algorithm behave in the same way?"
   ]
  },
  {
   "cell_type": "markdown",
   "metadata": {},
   "source": [
    "**Solution:** We work with a fixed time horizon $n$. If $\\Delta_a$ is small, then there is a larger chance of choosing a suboptimal arm, but the price paid for choosing a suboptimal arm is smaller. If $\\Delta_a$ is big, then we almost always choose the optimal arm, but we have to pay a larger price in the exploration phase. Hence, we anticipate that the graph will look bell-shaped. The graph for UCB should be similar."
   ]
  },
  {
   "cell_type": "markdown",
   "metadata": {},
   "source": [
    "c) Predict how the regret $R_n$ of ETC (with fixed $m$) would change if we increase the number of arms $K$."
   ]
  },
  {
   "cell_type": "markdown",
   "metadata": {},
   "source": [
    "**Solution:** $R_n$ would increase."
   ]
  },
  {
   "cell_type": "markdown",
   "metadata": {},
   "source": [
    "d) (*optional*) Verify the above using the bandits widget provided at the bottom of this notebook."
   ]
  },
  {
   "cell_type": "markdown",
   "metadata": {},
   "source": [
    "## Problem 4 (biasedness of observed reward means):\n",
    "\n",
    "Your friend Bob has been playing around with the bandits widget and noticed something curious happening: Over many simulations, the average reward observed for the suboptimal arms tend to be systematically *below* the true reward means. Try this out for yourself if you don't believe it. Can you explain why this is the case? "
   ]
  },
  {
   "cell_type": "markdown",
   "metadata": {},
   "source": [
    "**Solution:** First, note that $T_a(t)$ is itself a random variable, and is dependent on the rewards observed for arm $a$. This means that\n",
    "$$\n",
    "\\mathbb{E}[\\hat \\mu_{a}(t)] = \\mathbb{E}\\left[ \\frac{1}{T_a(t)}\\sum_{s=1}^t X_s 1(A_s=a)\\right] \\neq \\mu_a\n",
    "$$\n",
    "\n",
    "If the rewards we have observed for arm $a$ are smaller than normal, then we are less likely than normal to pull arm $a$ on future rounds. This intuition tells us that $\\hat{\\mu}_a$ for suboptimal arms are biased downward.\n",
    "\n",
    "It's quite difficult to make this intuition mathematically rigorous, and this is a topic of current research."
   ]
  },
  {
   "cell_type": "markdown",
   "metadata": {},
   "source": [
    "### Simulations for Problem 3 and 4: UCB code is omitted"
   ]
  },
  {
   "cell_type": "code",
   "execution_count": 9,
   "metadata": {},
   "outputs": [],
   "source": [
    "import numpy as np\n",
    "import matplotlib.pyplot as plt\n",
    "import matplotlib.patches as patches\n",
    "import seaborn as sns\n",
    "import matplotlib.animation as ani\n",
    "from matplotlib.widgets import Button\n",
    "import functools\n",
    "from Bandit_env import BanditEnvb\n",
    "# from UCB import UCB_pull_arm "
   ]
  },
  {
   "cell_type": "markdown",
   "metadata": {},
   "source": [
    "### Regret vs $m$"
   ]
  },
  {
   "cell_type": "code",
   "execution_count": 2,
   "metadata": {},
   "outputs": [],
   "source": [
    "# TODO: complete the function\n",
    "def ETC_pull_arm(t, m, rewards):\n",
    "    \"\"\" Implement the choice of arm for the ETC algorithm\n",
    "    \n",
    "    Inputs:\n",
    "        t : int, current iteration\n",
    "        m: parameter for ETC, exploration phase duration\n",
    "        rewards: a list of K lists. Each of the K lists holds the samples received from\n",
    "            pulling each arm up to iteration t. \n",
    "\n",
    "    Outputs:\n",
    "        arm: an integer representing the arm that the UCB algorithm would choose.\n",
    "    \"\"\"\n",
    "\n",
    "    K = len(rewards)\n",
    "    \n",
    "    if t < m*K:\n",
    "        arm = t % K\n",
    "    else:\n",
    "        arms = np.arange(K)\n",
    "        mean_rewards = [np.mean(rewards[arm][:m]) for arm in arms]\n",
    "        arm = np.argmax(mean_rewards)\n",
    "    \n",
    "    return arm"
   ]
  },
  {
   "cell_type": "code",
   "execution_count": 73,
   "metadata": {},
   "outputs": [],
   "source": [
    "m_vals = np.arange(2,15)\n",
    "\n",
    "Delta = 1\n",
    "num_arms = 5\n",
    "means = [10] + [10-Delta] * (num_arms-1)\n",
    "standard_deviations=[1 for arm in range(len(means))]\n",
    "bandit_env=BanditEnv(means, standard_deviations)\n",
    "\n",
    "# Define the time horizon of each run, and the number of runs of each the algorithm.\n",
    "T = 100\n",
    "num_runs=200\n",
    "\n",
    "regrets = []\n",
    "for m in m_vals:\n",
    "    #Initialize pseudo-regret\n",
    "    ETC_pseudo_regret=0\n",
    "    for runs in range(num_runs):\n",
    "        #Initialize Bandit_environment\n",
    "        bandit_env.initialize(make_plot=0)\n",
    "        for t in range(1,T+1):\n",
    "            #Choose arm using ETC algorithm\n",
    "            arm = ETC_pull_arm(t, m, bandit_env.rewards)\n",
    "\n",
    "            #Pull Arm\n",
    "            bandit_env.pull_arm(arm)\n",
    "\n",
    "        #Keep track of pseudo-regret  \n",
    "        ETC_pseudo_regret+=np.array(bandit_env.regret)\n",
    "    regrets.append(ETC_pseudo_regret[-1] / num_runs)"
   ]
  },
  {
   "cell_type": "code",
   "execution_count": 75,
   "metadata": {
    "scrolled": true
   },
   "outputs": [
    {
     "data": {
      "image/png": "[encoded data removed]",
      "text/plain": [
       "<Figure size 648x288 with 1 Axes>"
      ]
     },
     "metadata": {},
     "output_type": "display_data"
    }
   ],
   "source": [
    "plt.figure()\n",
    "plt.plot(m_vals, regrets)\n",
    "plt.xlabel(\"Num of initial pulls, $m$\")\n",
    "plt.ylabel(\"Regret after 100 rounds\")\n",
    "plt.show()"
   ]
  },
  {
   "cell_type": "markdown",
   "metadata": {},
   "source": [
    "### Regret vs $K$"
   ]
  },
  {
   "cell_type": "code",
   "execution_count": 69,
   "metadata": {},
   "outputs": [],
   "source": [
    "num_arms_vals = np.arange(5,10)\n",
    "\n",
    "# Globals\n",
    "m = 5\n",
    "Delta = 1\n",
    "\n",
    "# Define the time horizon of each run, and the number of runs of each the algorithm.\n",
    "T = 100\n",
    "num_runs=200\n",
    "\n",
    "regrets = []\n",
    "for num_arms in num_arms_vals:\n",
    "    #Initialize pseudo-regret\n",
    "    ETC_pseudo_regret=0\n",
    "    \n",
    "    means = [10] + [10-Delta] * (num_arms-1)\n",
    "    standard_deviations=[1 for arm in range(len(means))]\n",
    "    bandit_env=BanditEnv(means, standard_deviations)\n",
    "    \n",
    "    for runs in range(num_runs):\n",
    "        #Initialize Bandit_environment\n",
    "        bandit_env.initialize(make_plot=0)\n",
    "        for t in range(1,T+1):\n",
    "            #Choose arm using ETC algorithm\n",
    "            arm = ETC_pull_arm(t, m, bandit_env.rewards)\n",
    "\n",
    "            #Pull Arm\n",
    "            bandit_env.pull_arm(arm)\n",
    "\n",
    "        #Keep track of pseudo-regret  \n",
    "        ETC_pseudo_regret+=np.array(bandit_env.regret)\n",
    "    regrets.append(ETC_pseudo_regret[-1] / num_runs)"
   ]
  },
  {
   "cell_type": "code",
   "execution_count": 72,
   "metadata": {
    "scrolled": true
   },
   "outputs": [
    {
     "data": {
      "image/png": "[encoded data removed]",
      "text/plain": [
       "<Figure size 648x288 with 1 Axes>"
      ]
     },
     "metadata": {},
     "output_type": "display_data"
    }
   ],
   "source": [
    "plt.figure()\n",
    "plt.plot(num_arms_vals, regrets)\n",
    "plt.xlabel(\"Num arms\")\n",
    "plt.ylabel(\"Regret after 100 rounds\")\n",
    "plt.show()"
   ]
  },
  {
   "cell_type": "markdown",
   "metadata": {},
   "source": [
    "### Regret vs $\\Delta$"
   ]
  },
  {
   "cell_type": "code",
   "execution_count": 10,
   "metadata": {},
   "outputs": [],
   "source": [
    "Delta_vals = np.linspace(0.2, 2, 10)\n",
    "\n",
    "# Globals\n",
    "m = 5\n",
    "num_arms = 5\n",
    "\n",
    "# Define the time horizon of each run, and the number of runs of each the algorithm.\n",
    "T = 500\n",
    "num_runs = 200\n",
    "\n",
    "regrets = []\n",
    "for Delta in Delta_vals:\n",
    "    #Initialize pseudo-regret\n",
    "    ETC_pseudo_regret=0\n",
    "    \n",
    "    means = [10] + [10-Delta] * (num_arms-1)\n",
    "    standard_deviations=[1 for arm in range(len(means))]\n",
    "    bandit_env=BanditEnv(means, standard_deviations)\n",
    "    \n",
    "    for runs in range(num_runs):\n",
    "        #Initialize Bandit_environment\n",
    "        bandit_env.initialize(make_plot=0)\n",
    "        for t in range(1,T+1):\n",
    "            #Choose arm using ETC algorithm\n",
    "            arm = ETC_pull_arm(t, m, bandit_env.rewards)\n",
    "\n",
    "            #Pull Arm\n",
    "            bandit_env.pull_arm(arm)\n",
    "\n",
    "        #Keep track of pseudo-regret  \n",
    "        ETC_pseudo_regret+=np.array(bandit_env.regret)\n",
    "    regrets.append(ETC_pseudo_regret[-1] / num_runs)"
   ]
  },
  {
   "cell_type": "code",
   "execution_count": 11,
   "metadata": {},
   "outputs": [],
   "source": [
    "Delta_vals = np.linspace(0.2, 2, 10)\n",
    "\n",
    "# Globals\n",
    "delta = 1 / T**2\n",
    "\n",
    "UCB_regrets = []\n",
    "for Delta in Delta_vals:\n",
    "    #Initialize pseudo-regret\n",
    "    UCB_pseudo_regret=0\n",
    "    \n",
    "    means = [10] + [10-Delta] * (num_arms-1)\n",
    "    standard_deviations=[1 for arm in range(len(means))]\n",
    "    bandit_env=BanditEnv(means, standard_deviations)\n",
    "    \n",
    "    for runs in range(num_runs):\n",
    "        #Initialize Bandit_environment\n",
    "        bandit_env.initialize(make_plot=0)\n",
    "        \n",
    "        for t in range(1,T+1):\n",
    "            #Choose arm using UCB algorithm\n",
    "            arm, _ = UCB_pull_arm(t, standard_deviations, bandit_env.times_pulled,bandit_env.rewards)\n",
    "\n",
    "            #Pull Arm\n",
    "            bandit_env.pull_arm(arm)\n",
    "\n",
    "        #Keep track of pseudo-regret  \n",
    "        UCB_pseudo_regret+=np.array(bandit_env.regret)\n",
    "    UCB_regrets.append(UCB_pseudo_regret[-1] / num_runs)"
   ]
  },
  {
   "cell_type": "code",
   "execution_count": 12,
   "metadata": {
    "scrolled": true
   },
   "outputs": [
    {
     "data": {
      "image/png": "[encoded data removed]",
      "text/plain": [
       "<Figure size 432x288 with 1 Axes>"
      ]
     },
     "metadata": {},
     "output_type": "display_data"
    }
   ],
   "source": [
    "plt.figure()\n",
    "plt.plot(Delta_vals, regrets, label=\"ETC regret\")\n",
    "plt.plot(Delta_vals, UCB_regrets, label=\"UCB regret\")\n",
    "plt.xlabel(\"Suboptimality gap $\\Delta$\")\n",
    "plt.ylabel(\"Regret after 500 rounds\")\n",
    "plt.legend()\n",
    "plt.show()"
   ]
  },
  {
   "cell_type": "markdown",
   "metadata": {},
   "source": [
    "### Biasedness of observed rewards"
   ]
  },
  {
   "cell_type": "code",
   "execution_count": 26,
   "metadata": {},
   "outputs": [],
   "source": [
    "# Globals\n",
    "delta = 1 / T**2\n",
    "Delta = 1\n",
    "num_arms = 5\n",
    "T = 500\n",
    "num_runs = 1000\n",
    "    \n",
    "means = [10] + [10-Delta] * (num_arms-1)\n",
    "standard_deviations=[1 for arm in range(len(means))]\n",
    "bandit_env=BanditEnv(means, standard_deviations)\n",
    "\n",
    "below_true_mean = []\n",
    "for runs in range(num_runs):\n",
    "    #Initialize Bandit_environment\n",
    "    bandit_env.initialize(make_plot=0)\n",
    "\n",
    "    for t in range(1,T+1):\n",
    "        #Choose arm using UCB algorithm\n",
    "        arm, _ = UCB_pull_arm(t, standard_deviations, bandit_env.times_pulled,bandit_env.rewards)\n",
    "\n",
    "        #Pull Arm\n",
    "        bandit_env.pull_arm(arm)\n",
    "\n",
    "    for a in range(1,num_arms):\n",
    "        below_true_mean.append(np.mean(bandit_env.rewards[a]) < 10 - Delta)\n",
    "    \n",
    "below_true_mean = np.mean(below_true_mean)"
   ]
  },
  {
   "cell_type": "code",
   "execution_count": 27,
   "metadata": {},
   "outputs": [
    {
     "data": {
      "text/plain": [
       "0.55925"
      ]
     },
     "execution_count": 27,
     "metadata": {},
     "output_type": "execute_result"
    }
   ],
   "source": [
    "below_true_mean"
   ]
  },
  {
   "cell_type": "markdown",
   "metadata": {},
   "source": [
    "This is the proportion of times where a suboptimal arm had observed mean less than the true mean. If the observed means were unbiased, then this number should be close to 0.5."
   ]
  }
 ],
 "metadata": {
  "kernelspec": {
   "display_name": "Python 3",
   "language": "python",
   "name": "python3"
  },
  "language_info": {
   "codemirror_mode": {
    "name": "ipython",
    "version": 3
   },
   "file_extension": ".py",
   "mimetype": "text/x-python",
   "name": "python",
   "nbconvert_exporter": "python",
   "pygments_lexer": "ipython3",
   "version": "3.7.7"
  }
 },
 "nbformat": 4,
 "nbformat_minor": 4
}
