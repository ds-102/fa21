{
 "cells": [
  {
   "cell_type": "markdown",
   "id": "comparative-words",
   "metadata": {},
   "source": [
    "# Lecture worksheet 24\n",
    "\n",
    "Please note that **all** questions on this worksheet are required to earn credit."
   ]
  },
  {
   "cell_type": "markdown",
   "id": "associate-locator",
   "metadata": {},
   "source": [
    "## Question 1: What could go wrong?"
   ]
  },
  {
   "cell_type": "markdown",
   "id": "pretty-father",
   "metadata": {},
   "source": [
    "List examples of real-world data science gone wrong. If you can, try to link each one to the data science workflow presented in the videos.\n"
   ]
  },
  {
   "cell_type": "markdown",
   "id": "animated-family",
   "metadata": {},
   "source": [
    "*Your answer here*\n",
    "* Example 1\n",
    "* Example 2"
   ]
  },
  {
   "cell_type": "markdown",
   "id": "split-character",
   "metadata": {},
   "source": [
    "## Question 2: Intersalt study\n",
    "\n",
    "What are potential issues with the intersalt study? For your convenience, the text from the slide used is duplicated here:\n",
    "\n",
    "Intersalt study:\n",
    " - 52 centers each recruited ~200 subjects\n",
    " - Each center measured salt, blood pressure, and age of each subject\n",
    " - Regress blood pressure on age to get rate of increase with age (slope)\n",
    " - Compare this slope to average salt intake (across centers)\n",
    " - Result: rate of increase positively correlated with salt intake\n",
    " - Conclusion: consume less salt to avoid high blood pressure"
   ]
  },
  {
   "cell_type": "markdown",
   "id": "grateful-capitol",
   "metadata": {},
   "source": [
    "*Your answer here*"
   ]
  },
  {
   "cell_type": "markdown",
   "id": "celtic-bankruptcy",
   "metadata": {},
   "source": [
    "## Question 3: Sleeping pill studies"
   ]
  },
  {
   "cell_type": "markdown",
   "id": "talented-dinner",
   "metadata": {},
   "source": [
    "Numerous studies observe that patients who take sleeping pills incur higher rates of mortality, both overall and from specific causes (including cancer, heart disease, car accidents, and suicide).\n",
    "\n",
    "This effect seems to persist even after controlling for various confounders.\n",
    "\n",
    "However, Patorno et al. (2017) find that the effect goes away if we control for 300 different confounders at once.\n",
    "\n",
    "**What should we make of this?**\n"
   ]
  },
  {
   "cell_type": "markdown",
   "id": "experienced-healing",
   "metadata": {},
   "source": [
    "*Your answer here*"
   ]
  }
 ],
 "metadata": {
  "kernelspec": {
   "display_name": "Python 3",
   "language": "python",
   "name": "python3"
  },
  "language_info": {
   "codemirror_mode": {
    "name": "ipython",
    "version": 3
   },
   "file_extension": ".py",
   "mimetype": "text/x-python",
   "name": "python",
   "nbconvert_exporter": "python",
   "pygments_lexer": "ipython3",
   "version": "3.7.3"
  }
 },
 "nbformat": 4,
 "nbformat_minor": 5
}
