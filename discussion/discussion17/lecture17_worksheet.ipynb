{
 "cells": [
  {
   "cell_type": "markdown",
   "metadata": {},
   "source": [
    "# Lecture worksheet 17"
   ]
  },
  {
   "cell_type": "markdown",
   "metadata": {},
   "source": [
    "### Reminder: Only problem 1 is graded for credit, all other problems are optional (but still recommended)"
   ]
  },
  {
   "cell_type": "markdown",
   "metadata": {},
   "source": [
    "## Problem 1: "
   ]
  },
  {
   "cell_type": "markdown",
   "metadata": {},
   "source": [
    "1a) Let $X_1,\\ldots,X_n$ be i.i.d. random variables with variance $\\sigma^2$, and denote $Z = \\frac{1}{n}\\sum_{i=1}^n X_i$. Compute $\\textrm{Var}(Z)$."
   ]
  },
  {
   "cell_type": "markdown",
   "metadata": {},
   "source": [
    "1b) State Chebyshev's inequality for the above $Z$ in terms of $\\sigma^2$ and $n$."
   ]
  },
  {
   "cell_type": "markdown",
   "metadata": {},
   "source": [
    "1c) The moment generating function $M_X(\\lambda) = \\mathbb{E}[e^{\\lambda X}]$ can be expended as\n",
    "$$\n",
    "M_X(\\lambda) = \\sum_{n=0}^\\infty a_n \\lambda^n.\n",
    "$$\n",
    "What is the value of $a_n$?"
   ]
  },
  {
   "cell_type": "markdown",
   "metadata": {},
   "source": [
    "1d) We want to apply Hoeffding's inequality to $X_1,X_2,\\ldots,X_n$. What are the assumptions on these random variables?"
   ]
  },
  {
   "cell_type": "markdown",
   "metadata": {},
   "source": [
    "1e) Let $X_1,\\ldots,X_n$ satisfy those assumptions, with $a = 3$, $b = 8$, $n=10$. Denote $Z = \\frac{1}{n}\\sum_{i=1}^n X_i$. Compute the value of the Hoeffding bound for $\\mathbb{P}(Z - \\mu \\geq t)$."
   ]
  },
  {
   "cell_type": "markdown",
   "metadata": {},
   "source": [
    "1f) What is the definition of a $\\sigma$-sub-Gaussian random variable? What is $\\sigma$ for a random variable $X$ bounded between $a$ and $b$?"
   ]
  },
  {
   "cell_type": "markdown",
   "metadata": {},
   "source": [
    "## Problem 2 (extensions of Hoeffding's inequality): "
   ]
  },
  {
   "cell_type": "markdown",
   "metadata": {},
   "source": [
    "2a) On Wikipedia, Hoeffding's inequality is stated as follows: Let $X_1,X_2,\\ldots,X_n$ be independent random variables, such that for each $i$, $X_i$ is bounded between $a_i$ and $b_i$. Then\n",
    "$$\n",
    "\\mathbb{P}\\big(\\sum_{i=1}^n (X_i - \\mathbb{E}[X_i]) \\geq t\\big) \\leq \\exp\\left(-\\frac{2t^2}{\\sum_{i=1}^n(b_i-a_i)^2}\\right).\n",
    "$$\n",
    "Discuss what we need to change about the proof given in lecture in order to obtain this result."
   ]
  },
  {
   "cell_type": "markdown",
   "metadata": {},
   "source": [
    "2b) Another version of Hoeffding's inequality applies to sub-Gaussian random variables: Let $X_1,X_2,\\ldots,X_n$ be independent, centered, random variables that are each $\\sigma$-sub-Gaussian. Then for any numbers $c_1,c_2,\\ldots, c_n$, we have\n",
    "$$\n",
    "\\mathbb{P}\\big(\\sum_{i=1}^n a_i X_i \\geq t\\big) \\leq \\exp\\left(-\\frac{t^2}{2\\sum_{i=1}^n c_i^2\\sigma^2}\\right).\n",
    "$$\n",
    "Discuss what we need to change about the proof given in lecture in order to obtain this result."
   ]
  },
  {
   "cell_type": "markdown",
   "metadata": {},
   "source": [
    "## Problem 3 (assumptions, assumptions):\n",
    "\n",
    "3a) Why does Markov's inequality not apply to random variables that can take negative values?"
   ]
  },
  {
   "cell_type": "markdown",
   "metadata": {},
   "source": [
    "3b) Is it true that for any function $f$,\n",
    "$$\\mathbb{P}(Z \\geq t) = \\mathbb{P}(f(Z) \\geq f(t))?$$\n",
    "\n",
    "Based on your answer to this question, can you explain why in Chernoff's inequality, we only optimize over $\\lambda \\geq 0$?"
   ]
  },
  {
   "cell_type": "markdown",
   "metadata": {},
   "source": [
    "3c) Can you think of a random variable $Z$ for which the MGF $\\mathbb{E}[e^{\\lambda Z}]$ is infinite for any value of $\\lambda$? Can you think of one for which the MGF is finite for some values of $\\lambda$, and infinite for other values of $\\lambda$?"
   ]
  },
  {
   "cell_type": "markdown",
   "metadata": {},
   "source": [
    "## Problem 4 (fun calculation):\n",
    "\n",
    "Show that if $X \\sim \\mathcal{N}(0,\\sigma^2)$, then the MGF satisfies\n",
    "$$\n",
    "\\mathbb{E}[e^{\\lambda X}] = e^{\\lambda^2\\sigma^2/2}\n",
    "$$"
   ]
  }
 ],
 "metadata": {
  "kernelspec": {
   "display_name": "Python 3",
   "language": "python",
   "name": "python3"
  },
  "language_info": {
   "codemirror_mode": {
    "name": "ipython",
    "version": 3
   },
   "file_extension": ".py",
   "mimetype": "text/x-python",
   "name": "python",
   "nbconvert_exporter": "python",
   "pygments_lexer": "ipython3",
   "version": "3.7.7"
  }
 },
 "nbformat": 4,
 "nbformat_minor": 4
}
